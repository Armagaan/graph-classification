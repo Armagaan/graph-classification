{
 "cells": [
  {
   "cell_type": "markdown",
   "metadata": {},
   "source": [
    "# Mutag"
   ]
  },
  {
   "cell_type": "code",
   "execution_count": 1,
   "metadata": {},
   "outputs": [],
   "source": [
    "from math import sqrt\n",
    "import pickle\n",
    "import sys\n",
    "\n",
    "import dgl\n",
    "import torch\n",
    "\n",
    "sys.path.append(\"../\")\n",
    "from gcn import GCNGraph\n",
    "from utils.preprocessing.mutag_preprocessing_0 \\\n",
    "    import mutag_preprocessing_0"
   ]
  },
  {
   "cell_type": "markdown",
   "metadata": {},
   "source": [
    "## Data"
   ]
  },
  {
   "cell_type": "code",
   "execution_count": 2,
   "metadata": {},
   "outputs": [
    {
     "name": "stdout",
     "output_type": "stream",
     "text": [
      "processing\n"
     ]
    }
   ],
   "source": [
    "dataset_dir = \"/home/shade/code/github/graph-classification/data/Mutagenicity/raw\"\n",
    "dataset = mutag_preprocessing_0(dataset_dir)"
   ]
  },
  {
   "cell_type": "code",
   "execution_count": 3,
   "metadata": {},
   "outputs": [
    {
     "name": "stdout",
     "output_type": "stream",
     "text": [
      "dict_keys(['idx_train', 'idx_val', 'idx_test'])\n"
     ]
    }
   ],
   "source": [
    "with open(\"../../../data/Mutagenicity/processed/index.pkl\", \"rb\") as file:\n",
    "    index = pickle.load(file)\n",
    "print(index.keys())"
   ]
  },
  {
   "cell_type": "code",
   "execution_count": 4,
   "metadata": {},
   "outputs": [],
   "source": [
    "train_dataset = tuple(dataset[idx] for idx in index['idx_train'])\n",
    "val_dataset = tuple(dataset[idx] for idx in index['idx_val'])\n",
    "test_dataset = tuple(dataset[idx] for idx in index['idx_test'])"
   ]
  },
  {
   "cell_type": "code",
   "execution_count": 5,
   "metadata": {},
   "outputs": [
    {
     "name": "stdout",
     "output_type": "stream",
     "text": [
      "1150 282 1132\n"
     ]
    }
   ],
   "source": [
    "print(len(train_dataset), len(val_dataset), len(test_dataset))"
   ]
  },
  {
   "cell_type": "markdown",
   "metadata": {},
   "source": [
    "## Model"
   ]
  },
  {
   "cell_type": "code",
   "execution_count": 6,
   "metadata": {},
   "outputs": [
    {
     "name": "stdout",
     "output_type": "stream",
     "text": [
      "GCNGraph(\n",
      "  (conv1): GraphConvLayer()\n",
      "  (conv2): GraphConvLayer()\n",
      "  (conv3): GraphConvLayer()\n",
      "  (dense1): Linear(in_features=128, out_features=16, bias=True)\n",
      "  (dense2): Linear(in_features=16, out_features=8, bias=True)\n",
      "  (dense3): Linear(in_features=8, out_features=1, bias=True)\n",
      ")\n"
     ]
    }
   ],
   "source": [
    "model = GCNGraph(\n",
    "    in_feats=dataset.graphs[0].ndata['feat'].size(1),\n",
    "    h_feats=128\n",
    ")\n",
    "print(model)"
   ]
  },
  {
   "cell_type": "markdown",
   "metadata": {},
   "source": [
    "## Load weights"
   ]
  },
  {
   "cell_type": "code",
   "execution_count": 7,
   "metadata": {},
   "outputs": [
    {
     "name": "stdout",
     "output_type": "stream",
     "text": [
      "conv1.weight   : torch.Size([10, 128])\n",
      "conv1.bias     : torch.Size([128])\n",
      "conv2.weight   : torch.Size([128, 128])\n",
      "conv2.bias     : torch.Size([128])\n",
      "conv3.weight   : torch.Size([128, 128])\n",
      "conv3.bias     : torch.Size([128])\n",
      "dense1.weight  : torch.Size([16, 128])\n",
      "dense1.bias    : torch.Size([16])\n",
      "dense2.weight  : torch.Size([8, 16])\n",
      "dense2.bias    : torch.Size([8])\n",
      "dense3.weight  : torch.Size([1, 8])\n",
      "dense3.bias    : torch.Size([1])\n"
     ]
    }
   ],
   "source": [
    "state_dict = torch.load(\"mutag_weights.pt\")\n",
    "for key, val in state_dict.items():\n",
    "    print(f\"{key:<15}: {val.size()}\")"
   ]
  },
  {
   "cell_type": "code",
   "execution_count": 8,
   "metadata": {},
   "outputs": [
    {
     "data": {
      "text/plain": [
       "GCNGraph(\n",
       "  (conv1): GraphConvLayer()\n",
       "  (conv2): GraphConvLayer()\n",
       "  (conv3): GraphConvLayer()\n",
       "  (dense1): Linear(in_features=128, out_features=16, bias=True)\n",
       "  (dense2): Linear(in_features=16, out_features=8, bias=True)\n",
       "  (dense3): Linear(in_features=8, out_features=1, bias=True)\n",
       ")"
      ]
     },
     "execution_count": 8,
     "metadata": {},
     "output_type": "execute_result"
    }
   ],
   "source": [
    "model.load_state_dict(state_dict)\n",
    "model.eval()"
   ]
  },
  {
   "cell_type": "markdown",
   "metadata": {},
   "source": [
    "## Eval"
   ]
  },
  {
   "cell_type": "code",
   "execution_count": 9,
   "metadata": {},
   "outputs": [],
   "source": [
    "def test(dataset):\n",
    "    model.eval()\n",
    "    correct = 0\n",
    "    for data in dataset: # Iterate in batches over the training/test dataset.\n",
    "        graph, label = data\n",
    "        out = model(\n",
    "            graph,\n",
    "            graph.ndata['feat'].float(),\n",
    "            graph.edata['weight'].float()\n",
    "        ).squeeze()\n",
    "        break\n",
    "        pred = out.round()\n",
    "        correct += int((pred == label).sum())\n",
    "    return correct / len(dataset)"
   ]
  },
  {
   "cell_type": "code",
   "execution_count": 10,
   "metadata": {},
   "outputs": [
    {
     "name": "stdout",
     "output_type": "stream",
     "text": [
      "tensor(indices=tensor([[ 0,  0,  0,  0,  1,  1,  1,  2,  2,  3,  3,  3,  3,  4,\n",
      "                         4,  4,  4,  5,  5,  5,  6,  7,  7,  7,  8,  8,  8,  9,\n",
      "                         9,  9, 10, 10, 10, 11, 11, 11, 12, 12, 12, 13, 13, 13,\n",
      "                        13, 14, 15, 16, 17, 18, 19, 20, 21, 22, 23, 24],\n",
      "                       [ 1,  2,  3,  4,  0,  5,  6,  0,  7,  0,  4, 15, 16,  0,\n",
      "                         3, 17, 18,  1,  7,  8,  1,  2,  5,  9,  5, 10, 19,  7,\n",
      "                        11, 20,  8, 11, 12,  9, 10, 21, 10, 13, 14, 12, 22, 23,\n",
      "                        24, 12,  3,  3,  4,  4,  8,  9, 11, 13, 13, 13]]),\n",
      "       values=tensor([1., 1., 1., 1., 1., 1., 1., 1., 1., 1., 1., 1., 1., 1.,\n",
      "                      1., 1., 1., 1., 1., 1., 1., 1., 1., 1., 1., 1., 1., 1.,\n",
      "                      1., 1., 1., 1., 1., 1., 1., 1., 1., 1., 1., 1., 1., 1.,\n",
      "                      1., 1., 1., 1., 1., 1., 1., 1., 1., 1., 1., 1.]),\n",
      "       size=(25, 25), nnz=54, layout=torch.sparse_coo)\n",
      "Test accuracy: 0.00 %\n"
     ]
    }
   ],
   "source": [
    "test_acc = test(test_dataset)\n",
    "print(f\"Test accuracy: {100 * test_acc:.2f} %\")"
   ]
  },
  {
   "cell_type": "markdown",
   "metadata": {},
   "source": [
    "## Rough"
   ]
  },
  {
   "cell_type": "code",
   "execution_count": 13,
   "metadata": {},
   "outputs": [
    {
     "data": {
      "text/plain": [
       "(tensor([0., 1.]), tensor([ 38, 244]))"
      ]
     },
     "execution_count": 13,
     "metadata": {},
     "output_type": "execute_result"
    }
   ],
   "source": [
    "labels = list()\n",
    "for data in val_dataset:\n",
    "    labels.append(int(data[1]))\n",
    "torch.Tensor(labels).unique(return_counts=True)"
   ]
  },
  {
   "cell_type": "code",
   "execution_count": null,
   "metadata": {},
   "outputs": [],
   "source": []
  }
 ],
 "metadata": {
  "kernelspec": {
   "display_name": "Python 3.7.13 ('cfsqr')",
   "language": "python",
   "name": "python3"
  },
  "language_info": {
   "codemirror_mode": {
    "name": "ipython",
    "version": 3
   },
   "file_extension": ".py",
   "mimetype": "text/x-python",
   "name": "python",
   "nbconvert_exporter": "python",
   "pygments_lexer": "ipython3",
   "version": "3.7.13"
  },
  "orig_nbformat": 4,
  "vscode": {
   "interpreter": {
    "hash": "d7d096456d4adc4d0d94f2f60b5cf993aa1d5a534cad4a79ff1a4d3ab1294b60"
   }
  }
 },
 "nbformat": 4,
 "nbformat_minor": 2
}
