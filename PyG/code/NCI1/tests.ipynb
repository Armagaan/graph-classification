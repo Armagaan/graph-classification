{
 "cells": [
  {
   "cell_type": "markdown",
   "metadata": {},
   "source": [
    "# NCI1"
   ]
  },
  {
   "cell_type": "code",
   "execution_count": 1,
   "metadata": {},
   "outputs": [],
   "source": [
    "import pickle\n",
    "\n",
    "import torch\n",
    "from torch_geometric.loader import DataLoader\n",
    "\n",
    "from GNN import GCN_NCI1\n",
    "from preprocessing import NCI1Dataset\n",
    "\n",
    "torch.manual_seed(12345)"
   ]
  },
  {
   "cell_type": "markdown",
   "metadata": {},
   "source": [
    "## Data"
   ]
  },
  {
   "cell_type": "code",
   "execution_count": 2,
   "metadata": {},
   "outputs": [],
   "source": [
    "dataset = NCI1Dataset(\"../../../data/NCI1\")"
   ]
  },
  {
   "cell_type": "code",
   "execution_count": 3,
   "metadata": {},
   "outputs": [
    {
     "name": "stdout",
     "output_type": "stream",
     "text": [
      "dict_keys(['idx_train', 'idx_val', 'idx_test'])\n"
     ]
    }
   ],
   "source": [
    "with open(\"../../../data/NCI1/index.pkl\", \"rb\") as file:\n",
    "    index = pickle.load(file)\n",
    "print(index.keys())"
   ]
  },
  {
   "cell_type": "code",
   "execution_count": 4,
   "metadata": {},
   "outputs": [],
   "source": [
    "train_dataset = dataset[index['idx_train']]\n",
    "val_dataset = dataset[index['idx_val']]\n",
    "test_dataset = dataset[index['idx_test']]\n",
    "\n",
    "train_loader = DataLoader(train_dataset, batch_size=64, shuffle=True)\n",
    "val_loader = DataLoader(val_dataset, batch_size=64, shuffle=False)\n",
    "test_loader = DataLoader(test_dataset, batch_size=64, shuffle=False)"
   ]
  },
  {
   "cell_type": "code",
   "execution_count": 5,
   "metadata": {},
   "outputs": [
    {
     "name": "stdout",
     "output_type": "stream",
     "text": [
      "DataBatch(x=[1953, 37], edge_index=[2, 4228], y=[64], batch=[1953], ptr=[65])\n"
     ]
    }
   ],
   "source": [
    "for data in train_loader:\n",
    "    print(data)\n",
    "    break"
   ]
  },
  {
   "cell_type": "markdown",
   "metadata": {},
   "source": [
    "## Model"
   ]
  },
  {
   "cell_type": "code",
   "execution_count": 6,
   "metadata": {},
   "outputs": [],
   "source": [
    "model = GCN_NCI1(\n",
    "    in_features=dataset.num_node_features,\n",
    "    h_features=128,\n",
    "    n_classes=2\n",
    ")"
   ]
  },
  {
   "cell_type": "code",
   "execution_count": 7,
   "metadata": {},
   "outputs": [
    {
     "name": "stdout",
     "output_type": "stream",
     "text": [
      "GCN_NCI1(\n",
      "  (conv1): GraphConvolution (37 -> 128)\n",
      "  (conv2): GraphConvolution (128 -> 128)\n",
      "  (conv3): GraphConvolution (128 -> 128)\n",
      "  (dense1): Linear(in_features=128, out_features=16, bias=True)\n",
      "  (dense2): Linear(in_features=16, out_features=8, bias=True)\n",
      "  (dense3): Linear(in_features=8, out_features=1, bias=True)\n",
      ")\n"
     ]
    }
   ],
   "source": [
    "print(model)"
   ]
  },
  {
   "cell_type": "markdown",
   "metadata": {},
   "source": [
    "## Train"
   ]
  },
  {
   "cell_type": "code",
   "execution_count": 11,
   "metadata": {},
   "outputs": [],
   "source": [
    "optimizer = torch.optim.Adam(model.parameters(), lr=0.01)\n",
    "criterion = torch.nn.BCELoss()\n",
    "\n",
    "def train():\n",
    "    model.train()\n",
    "    for data in train_loader: # Iterate in batches over the training dataset.\n",
    "        out = model(data.x, data.edge_index, data.batch).squeeze() # Perform a single forward pass.\n",
    "        loss = criterion(out, data.y.float()) # Compute the loss.\n",
    "        loss.backward() # Derive gradients.\n",
    "        optimizer.step() # Update parameters based on gradients.\n",
    "        optimizer.zero_grad() # Clear gradients.\n",
    "\n",
    "def test(loader):\n",
    "    model.eval()\n",
    "    correct = 0\n",
    "    for data in loader: # Iterate in batches over the training/test dataset.\n",
    "        out = model(data.x, data.edge_index, data.batch).squeeze()\n",
    "        pred = out.round() # Use the class with highest probability.\n",
    "        correct += int((pred == data.y).sum()) # Check against ground-truth labels.\n",
    "    return correct / len(loader.dataset) # Derive ratio of correct predictions."
   ]
  },
  {
   "cell_type": "code",
   "execution_count": 18,
   "metadata": {},
   "outputs": [
    {
     "name": "stdout",
     "output_type": "stream",
     "text": [
      "Epoch: 001, Train Acc: 0.5908, Test Acc: 0.5669\n",
      "Checkpoint saved!\n",
      "Epoch: 002, Train Acc: 0.5805, Test Acc: 0.5908\n",
      "Checkpoint saved!\n",
      "Epoch: 003, Train Acc: 0.6107, Test Acc: 0.6367\n",
      "Checkpoint saved!\n",
      "Epoch: 004, Train Acc: 0.6238, Test Acc: 0.6307\n",
      "Epoch: 005, Train Acc: 0.6560, Test Acc: 0.6287\n",
      "Epoch: 006, Train Acc: 0.6491, Test Acc: 0.6208\n",
      "Epoch: 007, Train Acc: 0.6224, Test Acc: 0.5808\n",
      "Epoch: 008, Train Acc: 0.6745, Test Acc: 0.6507\n",
      "Checkpoint saved!\n",
      "Epoch: 009, Train Acc: 0.6603, Test Acc: 0.6627\n",
      "Checkpoint saved!\n",
      "Epoch: 010, Train Acc: 0.6706, Test Acc: 0.6687\n",
      "Checkpoint saved!\n",
      "Epoch: 011, Train Acc: 0.6905, Test Acc: 0.6906\n",
      "Checkpoint saved!\n",
      "Epoch: 012, Train Acc: 0.6866, Test Acc: 0.6886\n",
      "Epoch: 013, Train Acc: 0.6847, Test Acc: 0.6766\n",
      "Epoch: 014, Train Acc: 0.6939, Test Acc: 0.7126\n",
      "Checkpoint saved!\n",
      "Epoch: 015, Train Acc: 0.6964, Test Acc: 0.7146\n",
      "Checkpoint saved!\n",
      "Epoch: 016, Train Acc: 0.6793, Test Acc: 0.6966\n",
      "Epoch: 017, Train Acc: 0.6920, Test Acc: 0.7106\n",
      "Epoch: 018, Train Acc: 0.7007, Test Acc: 0.7106\n",
      "Epoch: 019, Train Acc: 0.6978, Test Acc: 0.7166\n",
      "Checkpoint saved!\n",
      "Epoch: 020, Train Acc: 0.7041, Test Acc: 0.7465\n",
      "Checkpoint saved!\n",
      "Epoch: 021, Train Acc: 0.6584, Test Acc: 0.6267\n",
      "Epoch: 022, Train Acc: 0.7041, Test Acc: 0.6986\n",
      "Epoch: 023, Train Acc: 0.7129, Test Acc: 0.7046\n",
      "Epoch: 024, Train Acc: 0.7119, Test Acc: 0.7265\n",
      "Epoch: 025, Train Acc: 0.7202, Test Acc: 0.7066\n",
      "Epoch: 026, Train Acc: 0.7280, Test Acc: 0.7445\n",
      "Epoch: 027, Train Acc: 0.7066, Test Acc: 0.6866\n",
      "Epoch: 028, Train Acc: 0.7071, Test Acc: 0.7206\n",
      "Epoch: 029, Train Acc: 0.7178, Test Acc: 0.7226\n",
      "Epoch: 030, Train Acc: 0.7105, Test Acc: 0.7265\n",
      "Epoch: 031, Train Acc: 0.7353, Test Acc: 0.7305\n",
      "Epoch: 032, Train Acc: 0.7129, Test Acc: 0.7226\n",
      "Epoch: 033, Train Acc: 0.7372, Test Acc: 0.7265\n",
      "Epoch: 034, Train Acc: 0.7105, Test Acc: 0.7345\n",
      "Epoch: 035, Train Acc: 0.7192, Test Acc: 0.7325\n",
      "Epoch: 036, Train Acc: 0.7377, Test Acc: 0.7605\n",
      "Checkpoint saved!\n",
      "Epoch: 037, Train Acc: 0.7333, Test Acc: 0.7345\n",
      "Epoch: 038, Train Acc: 0.7348, Test Acc: 0.7405\n",
      "Epoch: 039, Train Acc: 0.7304, Test Acc: 0.7605\n",
      "Checkpoint saved!\n",
      "Epoch: 040, Train Acc: 0.7372, Test Acc: 0.7246\n",
      "Epoch: 041, Train Acc: 0.7358, Test Acc: 0.7525\n",
      "Epoch: 042, Train Acc: 0.7294, Test Acc: 0.7246\n",
      "Epoch: 043, Train Acc: 0.7294, Test Acc: 0.7206\n",
      "Epoch: 044, Train Acc: 0.7455, Test Acc: 0.7365\n",
      "Epoch: 045, Train Acc: 0.7382, Test Acc: 0.7246\n",
      "Epoch: 046, Train Acc: 0.7348, Test Acc: 0.7445\n",
      "Epoch: 047, Train Acc: 0.7460, Test Acc: 0.7325\n",
      "Epoch: 048, Train Acc: 0.7217, Test Acc: 0.7605\n",
      "Checkpoint saved!\n",
      "Epoch: 049, Train Acc: 0.7382, Test Acc: 0.7465\n",
      "Epoch: 050, Train Acc: 0.7192, Test Acc: 0.6866\n",
      "Epoch: 051, Train Acc: 0.7465, Test Acc: 0.7345\n",
      "Epoch: 052, Train Acc: 0.7387, Test Acc: 0.7285\n",
      "Epoch: 053, Train Acc: 0.7348, Test Acc: 0.7206\n",
      "Epoch: 054, Train Acc: 0.7440, Test Acc: 0.7285\n",
      "Epoch: 055, Train Acc: 0.7499, Test Acc: 0.7365\n",
      "Epoch: 056, Train Acc: 0.7406, Test Acc: 0.7265\n",
      "Epoch: 057, Train Acc: 0.7455, Test Acc: 0.7425\n",
      "Epoch: 058, Train Acc: 0.7547, Test Acc: 0.7445\n",
      "Epoch: 059, Train Acc: 0.7606, Test Acc: 0.7645\n",
      "Checkpoint saved!\n",
      "Epoch: 060, Train Acc: 0.7547, Test Acc: 0.7385\n",
      "Epoch: 061, Train Acc: 0.7577, Test Acc: 0.7525\n",
      "Epoch: 062, Train Acc: 0.7635, Test Acc: 0.7325\n",
      "Epoch: 063, Train Acc: 0.7445, Test Acc: 0.7146\n",
      "Epoch: 064, Train Acc: 0.7533, Test Acc: 0.7365\n",
      "Epoch: 065, Train Acc: 0.7197, Test Acc: 0.6906\n",
      "Epoch: 066, Train Acc: 0.7586, Test Acc: 0.7345\n",
      "Epoch: 067, Train Acc: 0.7674, Test Acc: 0.7505\n",
      "Epoch: 068, Train Acc: 0.7299, Test Acc: 0.7405\n",
      "Epoch: 069, Train Acc: 0.7698, Test Acc: 0.7465\n",
      "Epoch: 070, Train Acc: 0.7752, Test Acc: 0.7485\n",
      "Epoch: 071, Train Acc: 0.7771, Test Acc: 0.7425\n",
      "Epoch: 072, Train Acc: 0.7630, Test Acc: 0.7445\n",
      "Epoch: 073, Train Acc: 0.7479, Test Acc: 0.7186\n",
      "Epoch: 074, Train Acc: 0.7771, Test Acc: 0.7425\n",
      "Epoch: 075, Train Acc: 0.7693, Test Acc: 0.7385\n",
      "Epoch: 076, Train Acc: 0.7674, Test Acc: 0.7246\n",
      "Epoch: 077, Train Acc: 0.7611, Test Acc: 0.7525\n",
      "Epoch: 078, Train Acc: 0.7669, Test Acc: 0.7425\n",
      "Epoch: 079, Train Acc: 0.7557, Test Acc: 0.7405\n",
      "Epoch: 080, Train Acc: 0.7737, Test Acc: 0.7305\n",
      "Epoch: 081, Train Acc: 0.7557, Test Acc: 0.7086\n",
      "Epoch: 082, Train Acc: 0.7557, Test Acc: 0.7405\n",
      "Epoch: 083, Train Acc: 0.7800, Test Acc: 0.7445\n",
      "Epoch: 084, Train Acc: 0.7786, Test Acc: 0.7445\n",
      "Epoch: 085, Train Acc: 0.7878, Test Acc: 0.7625\n",
      "Epoch: 086, Train Acc: 0.7674, Test Acc: 0.7445\n",
      "Epoch: 087, Train Acc: 0.7630, Test Acc: 0.7345\n",
      "Epoch: 088, Train Acc: 0.7630, Test Acc: 0.7146\n",
      "Epoch: 089, Train Acc: 0.7664, Test Acc: 0.7325\n",
      "Epoch: 090, Train Acc: 0.7820, Test Acc: 0.7305\n",
      "Epoch: 091, Train Acc: 0.7703, Test Acc: 0.7485\n",
      "Epoch: 092, Train Acc: 0.7903, Test Acc: 0.7385\n",
      "Epoch: 093, Train Acc: 0.7820, Test Acc: 0.7505\n",
      "Epoch: 094, Train Acc: 0.7835, Test Acc: 0.7525\n",
      "Epoch: 095, Train Acc: 0.7810, Test Acc: 0.7505\n",
      "Epoch: 096, Train Acc: 0.7912, Test Acc: 0.7665\n",
      "Checkpoint saved!\n",
      "Epoch: 097, Train Acc: 0.7825, Test Acc: 0.7725\n",
      "Checkpoint saved!\n",
      "Epoch: 098, Train Acc: 0.7917, Test Acc: 0.7605\n",
      "Epoch: 099, Train Acc: 0.7912, Test Acc: 0.7445\n",
      "Epoch: 100, Train Acc: 0.7869, Test Acc: 0.7485\n"
     ]
    }
   ],
   "source": [
    "best_test_acc = 0.0\n",
    "for epoch in range(1, 101):\n",
    "    train()\n",
    "    train_acc = test(train_loader)\n",
    "    val_acc = test(val_loader)\n",
    "    print(f'Epoch: {epoch:03d}, Train Acc: {train_acc:.4f}, Val Acc: {val_acc:.4f}')\n",
    "    if val_acc >= best_test_acc:\n",
    "        best_test_acc = val_acc\n",
    "        best_model_params = model.state_dict()\n",
    "        print(\"Checkpoint saved!\")"
   ]
  },
  {
   "cell_type": "markdown",
   "metadata": {},
   "source": [
    "## Eval"
   ]
  },
  {
   "cell_type": "code",
   "execution_count": 9,
   "metadata": {},
   "outputs": [
    {
     "data": {
      "text/plain": [
       "GCN_NCI1(\n",
       "  (conv1): GraphConvolution (37 -> 128)\n",
       "  (conv2): GraphConvolution (128 -> 128)\n",
       "  (conv3): GraphConvolution (128 -> 128)\n",
       "  (dense1): Linear(in_features=128, out_features=16, bias=True)\n",
       "  (dense2): Linear(in_features=16, out_features=8, bias=True)\n",
       "  (dense3): Linear(in_features=8, out_features=1, bias=True)\n",
       ")"
      ]
     },
     "execution_count": 9,
     "metadata": {},
     "output_type": "execute_result"
    }
   ],
   "source": [
    "best_model_params = torch.load(\"nci1_weights.pt\")\n",
    "model.load_state_dict(best_model_params)\n",
    "model.eval()"
   ]
  },
  {
   "cell_type": "code",
   "execution_count": 12,
   "metadata": {},
   "outputs": [
    {
     "name": "stdout",
     "output_type": "stream",
     "text": [
      "train accuracy: 78.69 %\n",
      "val accuracy: 74.85 %\n",
      "test accuracy: 70.54 %\n"
     ]
    }
   ],
   "source": [
    "for dataset in ['train', 'val', 'test']:\n",
    "    acc = test(eval(f\"{dataset}_loader\"))\n",
    "    print(f\"{dataset} accuracy: {100 * acc:.2f} %\")"
   ]
  },
  {
   "cell_type": "markdown",
   "metadata": {},
   "source": [
    "## Save weights"
   ]
  },
  {
   "cell_type": "code",
   "execution_count": 21,
   "metadata": {},
   "outputs": [],
   "source": [
    "torch.save(best_model_params, \"nci1_weights.pt\")"
   ]
  },
  {
   "cell_type": "markdown",
   "metadata": {},
   "source": [
    "## Rough"
   ]
  },
  {
   "cell_type": "code",
   "execution_count": 25,
   "metadata": {},
   "outputs": [
    {
     "name": "stdout",
     "output_type": "stream",
     "text": [
      "Data(x=[21, 37], edge_index=[2, 42], y=0)\n",
      "Data(x=[24, 37], edge_index=[2, 52], y=0)\n",
      "Data(x=[29, 37], edge_index=[2, 58], y=0)\n",
      "Data(x=[28, 37], edge_index=[2, 62], y=0)\n",
      "Data(x=[23, 37], edge_index=[2, 46], y=0)\n",
      "Data(x=[26, 37], edge_index=[2, 54], y=0)\n",
      "Data(x=[13, 37], edge_index=[2, 26], y=0)\n",
      "Data(x=[16, 37], edge_index=[2, 36], y=0)\n",
      "Data(x=[26, 37], edge_index=[2, 54], y=0)\n",
      "Data(x=[20, 37], edge_index=[2, 42], y=0)\n"
     ]
    }
   ],
   "source": [
    "for data in dataset[:10]:\n",
    "    print(data)"
   ]
  },
  {
   "cell_type": "code",
   "execution_count": 34,
   "metadata": {},
   "outputs": [
    {
     "data": {
      "text/plain": [
       "tensor([[-0.0118, -0.0508, -0.5350,  ..., -0.0652, -0.9004, -0.1335],\n",
       "        [-0.0654, -0.1208, -0.3913,  ...,  0.7258, -0.4484, -0.0888],\n",
       "        [-0.0500, -0.4100, -0.4445,  ..., -0.3790, -0.7915, -0.0540],\n",
       "        ...,\n",
       "        [ 0.0473, -0.0317, -0.0477,  ..., -0.0682, -0.0147, -0.0491],\n",
       "        [ 0.0347,  0.0393,  0.0695,  ..., -0.0644, -0.0703,  0.0640],\n",
       "        [ 0.0154,  0.6167,  0.5162,  ...,  0.7527,  0.0603, -0.0775]])"
      ]
     },
     "execution_count": 34,
     "metadata": {},
     "output_type": "execute_result"
    }
   ],
   "source": [
    "best_model_params['conv1.weight']"
   ]
  },
  {
   "cell_type": "code",
   "execution_count": null,
   "metadata": {},
   "outputs": [],
   "source": []
  }
 ],
 "metadata": {
  "kernelspec": {
   "display_name": "Python 3.9.12 ('gnn')",
   "language": "python",
   "name": "python3"
  },
  "language_info": {
   "codemirror_mode": {
    "name": "ipython",
    "version": 3
   },
   "file_extension": ".py",
   "mimetype": "text/x-python",
   "name": "python",
   "nbconvert_exporter": "python",
   "pygments_lexer": "ipython3",
   "version": "3.9.12"
  },
  "orig_nbformat": 4,
  "vscode": {
   "interpreter": {
    "hash": "68c408a09fc6b9af4d557fa69fd931fc5c0935ab87f3b3ea2b2f71f9a639c9ba"
   }
  }
 },
 "nbformat": 4,
 "nbformat_minor": 2
}
