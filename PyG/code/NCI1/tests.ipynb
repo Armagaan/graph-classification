{
 "cells": [
  {
   "cell_type": "markdown",
   "metadata": {},
   "source": [
    "# NCI1"
   ]
  },
  {
   "cell_type": "code",
   "execution_count": 2,
   "metadata": {},
   "outputs": [
    {
     "data": {
      "text/plain": [
       "<torch._C.Generator at 0x7f9a37159f90>"
      ]
     },
     "execution_count": 2,
     "metadata": {},
     "output_type": "execute_result"
    }
   ],
   "source": [
    "import pickle\n",
    "\n",
    "import torch\n",
    "from torch_geometric.loader import DataLoader\n",
    "\n",
    "from GNN import GCN_NCI1\n",
    "from preprocessing import NCI1Dataset\n",
    "\n",
    "torch.manual_seed(12345)"
   ]
  },
  {
   "cell_type": "markdown",
   "metadata": {},
   "source": [
    "## Data"
   ]
  },
  {
   "cell_type": "code",
   "execution_count": 3,
   "metadata": {},
   "outputs": [],
   "source": [
    "dataset = NCI1Dataset(\"../../../data/NCI1\")"
   ]
  },
  {
   "cell_type": "code",
   "execution_count": 4,
   "metadata": {},
   "outputs": [
    {
     "data": {
      "text/plain": [
       "4110"
      ]
     },
     "execution_count": 4,
     "metadata": {},
     "output_type": "execute_result"
    }
   ],
   "source": [
    "len(dataset)"
   ]
  },
  {
   "cell_type": "code",
   "execution_count": 28,
   "metadata": {},
   "outputs": [
    {
     "name": "stdout",
     "output_type": "stream",
     "text": [
      "dict_keys(['idx_train', 'idx_val', 'idx_test'])\n"
     ]
    }
   ],
   "source": [
    "with open(\"../../../data/NCI1/index.pkl\", \"rb\") as file:\n",
    "    index = pickle.load(file)\n",
    "print(index.keys())"
   ]
  },
  {
   "cell_type": "code",
   "execution_count": 29,
   "metadata": {},
   "outputs": [],
   "source": [
    "train_dataset = dataset[index['idx_train']]\n",
    "val_dataset = dataset[index['idx_val']]\n",
    "test_dataset = dataset[index['idx_test']]\n",
    "\n",
    "train_loader = DataLoader(train_dataset, batch_size=64, shuffle=True)\n",
    "val_loader = DataLoader(val_dataset, batch_size=64, shuffle=False)\n",
    "test_loader = DataLoader(test_dataset, batch_size=64, shuffle=False)"
   ]
  },
  {
   "cell_type": "code",
   "execution_count": 14,
   "metadata": {},
   "outputs": [
    {
     "name": "stdout",
     "output_type": "stream",
     "text": [
      "DataBatch(x=[1858, 37], edge_index=[2, 4030], y=[64], batch=[1858], ptr=[65])\n"
     ]
    }
   ],
   "source": [
    "for data in train_loader:\n",
    "    print(data)\n",
    "    break"
   ]
  },
  {
   "cell_type": "markdown",
   "metadata": {},
   "source": [
    "## Model"
   ]
  },
  {
   "cell_type": "code",
   "execution_count": 15,
   "metadata": {},
   "outputs": [],
   "source": [
    "model = GCN_NCI1(\n",
    "    in_features=dataset.num_node_features,\n",
    "    h_features=128,\n",
    ")"
   ]
  },
  {
   "cell_type": "code",
   "execution_count": 16,
   "metadata": {},
   "outputs": [
    {
     "name": "stdout",
     "output_type": "stream",
     "text": [
      "GCN_NCI1(\n",
      "  (conv1): GraphConvolution (37 -> 128)\n",
      "  (conv2): GraphConvolution (128 -> 128)\n",
      "  (conv3): GraphConvolution (128 -> 128)\n",
      "  (dense1): Linear(in_features=128, out_features=16, bias=True)\n",
      "  (dense2): Linear(in_features=16, out_features=8, bias=True)\n",
      "  (dense3): Linear(in_features=8, out_features=1, bias=True)\n",
      ")\n"
     ]
    }
   ],
   "source": [
    "print(model)"
   ]
  },
  {
   "cell_type": "markdown",
   "metadata": {},
   "source": [
    "## Train"
   ]
  },
  {
   "cell_type": "code",
   "execution_count": 17,
   "metadata": {},
   "outputs": [],
   "source": [
    "optimizer = torch.optim.Adam(model.parameters(), lr=0.01)\n",
    "criterion = torch.nn.BCELoss()\n",
    "\n",
    "def train():\n",
    "    model.train()\n",
    "    for data in train_loader: # Iterate in batches over the training dataset.\n",
    "        out = model(data.x, data.edge_index, data.batch).squeeze()\n",
    "        loss = criterion(out, data.y.float())\n",
    "        loss.backward()\n",
    "        optimizer.step()\n",
    "        optimizer.zero_grad()\n",
    "\n",
    "def test(loader):\n",
    "    model.eval()\n",
    "    correct = 0\n",
    "    for data in loader: # Iterate in batches over the training/test dataset.\n",
    "        out = model(data.x, data.edge_index, data.batch).squeeze()\n",
    "        pred = out.round()\n",
    "        correct += int((pred == data.y).sum())\n",
    "    return correct / len(loader.dataset)"
   ]
  },
  {
   "cell_type": "code",
   "execution_count": 18,
   "metadata": {},
   "outputs": [],
   "source": [
    "best_test_acc = 0.0\n",
    "for epoch in range(1, 101):\n",
    "    train()\n",
    "    train_acc = test(train_loader)\n",
    "    val_acc = test(val_loader)\n",
    "    print(f'Epoch: {epoch:03d}, Train Acc: {train_acc:.4f}, Val Acc: {val_acc:.4f}')\n",
    "    if val_acc >= best_test_acc:\n",
    "        best_test_acc = val_acc\n",
    "        best_model_params = model.state_dict()\n",
    "        print(\"Checkpoint saved!\")"
   ]
  },
  {
   "cell_type": "markdown",
   "metadata": {},
   "source": [
    "## Eval"
   ]
  },
  {
   "cell_type": "code",
   "execution_count": 10,
   "metadata": {},
   "outputs": [
    {
     "data": {
      "text/plain": [
       "GCN_NCI1(\n",
       "  (conv1): GraphConvolution (37 -> 128)\n",
       "  (conv2): GraphConvolution (128 -> 128)\n",
       "  (conv3): GraphConvolution (128 -> 128)\n",
       "  (dense1): Linear(in_features=128, out_features=16, bias=True)\n",
       "  (dense2): Linear(in_features=16, out_features=8, bias=True)\n",
       "  (dense3): Linear(in_features=8, out_features=1, bias=True)\n",
       ")"
      ]
     },
     "execution_count": 10,
     "metadata": {},
     "output_type": "execute_result"
    }
   ],
   "source": [
    "# best_model_params = torch.load(\"nci1_weights.pt\")\n",
    "model.load_state_dict(best_model_params)\n",
    "model.eval()"
   ]
  },
  {
   "cell_type": "code",
   "execution_count": 11,
   "metadata": {},
   "outputs": [
    {
     "name": "stdout",
     "output_type": "stream",
     "text": [
      "train accuracy: 75.18 %\n",
      "val accuracy: 75.25 %\n",
      "test accuracy: 68.79 %\n"
     ]
    }
   ],
   "source": [
    "for dataset in ['train', 'val', 'test']:\n",
    "    acc = test(eval(f\"{dataset}_loader\"))\n",
    "    print(f\"{dataset} accuracy: {100 * acc:.2f} %\")"
   ]
  },
  {
   "cell_type": "markdown",
   "metadata": {},
   "source": [
    "## Save weights"
   ]
  },
  {
   "cell_type": "code",
   "execution_count": 21,
   "metadata": {},
   "outputs": [],
   "source": [
    "torch.save(best_model_params, \"new_nci1_weights.pt\")"
   ]
  },
  {
   "cell_type": "markdown",
   "metadata": {},
   "source": [
    "## Rough"
   ]
  },
  {
   "cell_type": "code",
   "execution_count": 30,
   "metadata": {},
   "outputs": [
    {
     "data": {
      "text/plain": [
       "4562"
      ]
     },
     "execution_count": 30,
     "metadata": {},
     "output_type": "execute_result"
    }
   ],
   "source": [
    "sum((len(index['idx_train']), len(index['idx_val']), len(index['idx_test'])))"
   ]
  },
  {
   "cell_type": "code",
   "execution_count": 31,
   "metadata": {},
   "outputs": [
    {
     "name": "stdout",
     "output_type": "stream",
     "text": [
      "[] [] []\n"
     ]
    }
   ],
   "source": [
    "print(\n",
    "    list(set(index['idx_train']) & set(index['idx_val'])),\n",
    "    list(set(index['idx_train']) & set(index['idx_test'])),\n",
    "    list(set(index['idx_val']) & set(index['idx_test'])),\n",
    ")"
   ]
  },
  {
   "cell_type": "code",
   "execution_count": 32,
   "metadata": {},
   "outputs": [
    {
     "data": {
      "text/plain": [
       "(tensor(4109), tensor(4083), tensor(4108))"
      ]
     },
     "execution_count": 32,
     "metadata": {},
     "output_type": "execute_result"
    }
   ],
   "source": [
    "max(index['idx_train']), max(index['idx_val']), max(index['idx_test'])"
   ]
  },
  {
   "cell_type": "code",
   "execution_count": null,
   "metadata": {},
   "outputs": [],
   "source": []
  }
 ],
 "metadata": {
  "kernelspec": {
   "display_name": "Python 3.9.12 ('gnn')",
   "language": "python",
   "name": "python3"
  },
  "language_info": {
   "codemirror_mode": {
    "name": "ipython",
    "version": 3
   },
   "file_extension": ".py",
   "mimetype": "text/x-python",
   "name": "python",
   "nbconvert_exporter": "python",
   "pygments_lexer": "ipython3",
   "version": "3.9.12"
  },
  "orig_nbformat": 4,
  "vscode": {
   "interpreter": {
    "hash": "68c408a09fc6b9af4d557fa69fd931fc5c0935ab87f3b3ea2b2f71f9a639c9ba"
   }
  }
 },
 "nbformat": 4,
 "nbformat_minor": 2
}
