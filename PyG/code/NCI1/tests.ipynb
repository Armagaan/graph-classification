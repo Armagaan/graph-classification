{
 "cells": [
  {
   "cell_type": "markdown",
   "metadata": {},
   "source": [
    "# NCI1"
   ]
  },
  {
   "cell_type": "code",
   "execution_count": 11,
   "metadata": {},
   "outputs": [
    {
     "data": {
      "text/plain": [
       "<torch._C.Generator at 0x7ff7c5751fb0>"
      ]
     },
     "execution_count": 11,
     "metadata": {},
     "output_type": "execute_result"
    }
   ],
   "source": [
    "import pickle\n",
    "\n",
    "import torch\n",
    "from torch_geometric.loader import DataLoader\n",
    "\n",
    "from GNN import GCN_NCI1\n",
    "from preprocessing import NCI1Dataset\n",
    "\n",
    "torch.manual_seed(12345)"
   ]
  },
  {
   "cell_type": "markdown",
   "metadata": {},
   "source": [
    "## Data"
   ]
  },
  {
   "cell_type": "code",
   "execution_count": 12,
   "metadata": {},
   "outputs": [
    {
     "name": "stderr",
     "output_type": "stream",
     "text": [
      "Processing...\n"
     ]
    },
    {
     "name": "stdout",
     "output_type": "stream",
     "text": [
      "../../../data/NCI1/raw/NCI1_A.txt ../../../data/NCI1/raw/NCI1_graph_indicator.txt ../../../data/NCI1/raw/NCI1_node_labels.txt ../../../data/NCI1/raw/NCI1_graph_labels.txt\n"
     ]
    },
    {
     "name": "stderr",
     "output_type": "stream",
     "text": [
      "Done!\n"
     ]
    }
   ],
   "source": [
    "dataset = NCI1Dataset(\"../../../data/NCI1\")"
   ]
  },
  {
   "cell_type": "code",
   "execution_count": 13,
   "metadata": {},
   "outputs": [
    {
     "data": {
      "text/plain": [
       "4110"
      ]
     },
     "execution_count": 13,
     "metadata": {},
     "output_type": "execute_result"
    }
   ],
   "source": [
    "len(dataset)"
   ]
  },
  {
   "cell_type": "code",
   "execution_count": 14,
   "metadata": {},
   "outputs": [
    {
     "name": "stdout",
     "output_type": "stream",
     "text": [
      "dict_keys(['idx_train', 'idx_val', 'idx_test'])\n"
     ]
    }
   ],
   "source": [
    "with open(\"../../../data/NCI1/index.pkl\", \"rb\") as file:\n",
    "    index = pickle.load(file)\n",
    "print(index.keys())"
   ]
  },
  {
   "cell_type": "code",
   "execution_count": 15,
   "metadata": {},
   "outputs": [],
   "source": [
    "train_dataset = dataset[index['idx_train']]\n",
    "val_dataset = dataset[index['idx_val']]\n",
    "test_dataset = dataset[index['idx_test']]\n",
    "\n",
    "train_loader = DataLoader(train_dataset, batch_size=64, shuffle=True)\n",
    "val_loader = DataLoader(val_dataset, batch_size=64, shuffle=False)\n",
    "test_loader = DataLoader(test_dataset, batch_size=64, shuffle=False)"
   ]
  },
  {
   "cell_type": "code",
   "execution_count": 16,
   "metadata": {},
   "outputs": [
    {
     "name": "stdout",
     "output_type": "stream",
     "text": [
      "DataBatch(x=[1858, 37], edge_index=[2, 4030], y=[64], batch=[1858], ptr=[65])\n"
     ]
    }
   ],
   "source": [
    "for data in train_loader:\n",
    "    print(data)\n",
    "    break"
   ]
  },
  {
   "cell_type": "markdown",
   "metadata": {},
   "source": [
    "## Model"
   ]
  },
  {
   "cell_type": "code",
   "execution_count": 17,
   "metadata": {},
   "outputs": [],
   "source": [
    "model = GCN_NCI1(\n",
    "    in_features=dataset.num_node_features,\n",
    "    h_features=128,\n",
    ")"
   ]
  },
  {
   "cell_type": "code",
   "execution_count": 18,
   "metadata": {},
   "outputs": [
    {
     "name": "stdout",
     "output_type": "stream",
     "text": [
      "GCN_NCI1(\n",
      "  (conv1): GraphConvolution (37 -> 128)\n",
      "  (conv2): GraphConvolution (128 -> 128)\n",
      "  (dense1): Linear(in_features=128, out_features=16, bias=True)\n",
      "  (dense2): Linear(in_features=16, out_features=8, bias=True)\n",
      "  (dense3): Linear(in_features=8, out_features=2, bias=True)\n",
      ")\n"
     ]
    }
   ],
   "source": [
    "print(model)"
   ]
  },
  {
   "cell_type": "markdown",
   "metadata": {},
   "source": [
    "## Train"
   ]
  },
  {
   "cell_type": "code",
   "execution_count": 19,
   "metadata": {},
   "outputs": [],
   "source": [
    "optimizer = torch.optim.Adam(model.parameters(), lr=0.01)\n",
    "criterion = torch.nn.NLLLoss()\n",
    "\n",
    "def train():\n",
    "    model.train()\n",
    "    for data in train_loader: # Iterate in batches over the training dataset.\n",
    "        out = model(data.x, data.edge_index, data.batch)\n",
    "        loss = criterion(out, data.y.long())\n",
    "        loss.backward()\n",
    "        optimizer.step()\n",
    "        optimizer.zero_grad()\n",
    "\n",
    "def test(loader):\n",
    "    model.eval()\n",
    "    correct = 0\n",
    "    for data in loader: # Iterate in batches over the training/test dataset.\n",
    "        out = model(data.x, data.edge_index, data.batch)\n",
    "        pred = torch.argmax(out, dim=-1)\n",
    "        correct += int((pred == data.y.long()).sum())\n",
    "    return correct / len(loader.dataset)"
   ]
  },
  {
   "cell_type": "code",
   "execution_count": 20,
   "metadata": {},
   "outputs": [
    {
     "name": "stdout",
     "output_type": "stream",
     "text": [
      "Epoch: 001, Train Acc: 0.5090, Val Acc: 0.4731\n",
      "Checkpoint saved!\n",
      "Epoch: 002, Train Acc: 0.5985, Val Acc: 0.5729\n",
      "Checkpoint saved!\n",
      "Epoch: 003, Train Acc: 0.5800, Val Acc: 0.5629\n",
      "Epoch: 004, Train Acc: 0.6127, Val Acc: 0.5928\n",
      "Checkpoint saved!\n",
      "Epoch: 005, Train Acc: 0.6165, Val Acc: 0.6427\n",
      "Checkpoint saved!\n",
      "Epoch: 006, Train Acc: 0.6448, Val Acc: 0.6088\n",
      "Epoch: 007, Train Acc: 0.6370, Val Acc: 0.6347\n",
      "Epoch: 008, Train Acc: 0.6462, Val Acc: 0.6327\n",
      "Epoch: 009, Train Acc: 0.6535, Val Acc: 0.6687\n",
      "Checkpoint saved!\n",
      "Epoch: 010, Train Acc: 0.6180, Val Acc: 0.6427\n",
      "Epoch: 011, Train Acc: 0.6399, Val Acc: 0.6607\n",
      "Epoch: 012, Train Acc: 0.6564, Val Acc: 0.6387\n",
      "Epoch: 013, Train Acc: 0.6730, Val Acc: 0.6607\n",
      "Epoch: 014, Train Acc: 0.6496, Val Acc: 0.6208\n",
      "Epoch: 015, Train Acc: 0.6745, Val Acc: 0.6727\n",
      "Checkpoint saved!\n",
      "Epoch: 016, Train Acc: 0.6774, Val Acc: 0.6467\n",
      "Epoch: 017, Train Acc: 0.6720, Val Acc: 0.6327\n",
      "Epoch: 018, Train Acc: 0.6774, Val Acc: 0.6587\n",
      "Epoch: 019, Train Acc: 0.6676, Val Acc: 0.6607\n",
      "Epoch: 020, Train Acc: 0.6798, Val Acc: 0.6747\n",
      "Checkpoint saved!\n",
      "Epoch: 021, Train Acc: 0.6754, Val Acc: 0.6507\n",
      "Epoch: 022, Train Acc: 0.6856, Val Acc: 0.6367\n",
      "Epoch: 023, Train Acc: 0.6891, Val Acc: 0.6607\n",
      "Epoch: 024, Train Acc: 0.6832, Val Acc: 0.6727\n",
      "Epoch: 025, Train Acc: 0.6808, Val Acc: 0.6547\n",
      "Epoch: 026, Train Acc: 0.6370, Val Acc: 0.6028\n",
      "Epoch: 027, Train Acc: 0.6608, Val Acc: 0.6647\n",
      "Epoch: 028, Train Acc: 0.6842, Val Acc: 0.6727\n",
      "Epoch: 029, Train Acc: 0.6861, Val Acc: 0.6447\n",
      "Epoch: 030, Train Acc: 0.6822, Val Acc: 0.6727\n",
      "Epoch: 031, Train Acc: 0.6968, Val Acc: 0.6786\n",
      "Checkpoint saved!\n",
      "Epoch: 032, Train Acc: 0.6925, Val Acc: 0.6527\n",
      "Epoch: 033, Train Acc: 0.7139, Val Acc: 0.6667\n",
      "Epoch: 034, Train Acc: 0.7027, Val Acc: 0.6567\n",
      "Epoch: 035, Train Acc: 0.6973, Val Acc: 0.6467\n",
      "Epoch: 036, Train Acc: 0.6574, Val Acc: 0.6168\n",
      "Epoch: 037, Train Acc: 0.6852, Val Acc: 0.6248\n",
      "Epoch: 038, Train Acc: 0.6856, Val Acc: 0.6667\n",
      "Epoch: 039, Train Acc: 0.7129, Val Acc: 0.6687\n",
      "Epoch: 040, Train Acc: 0.7153, Val Acc: 0.6727\n",
      "Epoch: 041, Train Acc: 0.7036, Val Acc: 0.6547\n",
      "Epoch: 042, Train Acc: 0.7207, Val Acc: 0.6727\n",
      "Epoch: 043, Train Acc: 0.7124, Val Acc: 0.6826\n",
      "Checkpoint saved!\n",
      "Epoch: 044, Train Acc: 0.7158, Val Acc: 0.6627\n",
      "Epoch: 045, Train Acc: 0.7095, Val Acc: 0.6687\n",
      "Epoch: 046, Train Acc: 0.7036, Val Acc: 0.6866\n",
      "Checkpoint saved!\n",
      "Epoch: 047, Train Acc: 0.7075, Val Acc: 0.6806\n",
      "Epoch: 048, Train Acc: 0.7105, Val Acc: 0.6766\n",
      "Epoch: 049, Train Acc: 0.7124, Val Acc: 0.6587\n",
      "Epoch: 050, Train Acc: 0.7012, Val Acc: 0.6766\n",
      "Epoch: 051, Train Acc: 0.7085, Val Acc: 0.6547\n",
      "Epoch: 052, Train Acc: 0.7032, Val Acc: 0.6966\n",
      "Checkpoint saved!\n",
      "Epoch: 053, Train Acc: 0.7241, Val Acc: 0.6786\n",
      "Epoch: 054, Train Acc: 0.7343, Val Acc: 0.6906\n",
      "Epoch: 055, Train Acc: 0.7217, Val Acc: 0.6766\n",
      "Epoch: 056, Train Acc: 0.6652, Val Acc: 0.6866\n",
      "Epoch: 057, Train Acc: 0.7309, Val Acc: 0.6826\n",
      "Epoch: 058, Train Acc: 0.7265, Val Acc: 0.7106\n",
      "Checkpoint saved!\n",
      "Epoch: 059, Train Acc: 0.7056, Val Acc: 0.6866\n",
      "Epoch: 060, Train Acc: 0.7158, Val Acc: 0.6687\n",
      "Epoch: 061, Train Acc: 0.7431, Val Acc: 0.7246\n",
      "Checkpoint saved!\n",
      "Epoch: 062, Train Acc: 0.7470, Val Acc: 0.6806\n",
      "Epoch: 063, Train Acc: 0.7251, Val Acc: 0.6826\n",
      "Epoch: 064, Train Acc: 0.7523, Val Acc: 0.7086\n",
      "Epoch: 065, Train Acc: 0.7431, Val Acc: 0.6946\n",
      "Epoch: 066, Train Acc: 0.7382, Val Acc: 0.6627\n",
      "Epoch: 067, Train Acc: 0.7275, Val Acc: 0.7026\n",
      "Epoch: 068, Train Acc: 0.7533, Val Acc: 0.7146\n",
      "Epoch: 069, Train Acc: 0.7460, Val Acc: 0.6886\n",
      "Epoch: 070, Train Acc: 0.7280, Val Acc: 0.7006\n",
      "Epoch: 071, Train Acc: 0.7406, Val Acc: 0.7006\n",
      "Epoch: 072, Train Acc: 0.7061, Val Acc: 0.6627\n",
      "Epoch: 073, Train Acc: 0.7314, Val Acc: 0.6986\n",
      "Epoch: 074, Train Acc: 0.7309, Val Acc: 0.6886\n",
      "Epoch: 075, Train Acc: 0.7353, Val Acc: 0.7106\n",
      "Epoch: 076, Train Acc: 0.7489, Val Acc: 0.7026\n",
      "Epoch: 077, Train Acc: 0.7431, Val Acc: 0.7126\n",
      "Epoch: 078, Train Acc: 0.7382, Val Acc: 0.6946\n",
      "Epoch: 079, Train Acc: 0.7499, Val Acc: 0.7046\n",
      "Epoch: 080, Train Acc: 0.7440, Val Acc: 0.7146\n",
      "Epoch: 081, Train Acc: 0.7436, Val Acc: 0.6786\n",
      "Epoch: 082, Train Acc: 0.7518, Val Acc: 0.6946\n",
      "Epoch: 083, Train Acc: 0.7348, Val Acc: 0.6866\n",
      "Epoch: 084, Train Acc: 0.7445, Val Acc: 0.6906\n",
      "Epoch: 085, Train Acc: 0.7372, Val Acc: 0.6866\n",
      "Epoch: 086, Train Acc: 0.7591, Val Acc: 0.6866\n",
      "Epoch: 087, Train Acc: 0.7275, Val Acc: 0.6427\n",
      "Epoch: 088, Train Acc: 0.6545, Val Acc: 0.5908\n",
      "Epoch: 089, Train Acc: 0.7426, Val Acc: 0.6766\n",
      "Epoch: 090, Train Acc: 0.7051, Val Acc: 0.6906\n",
      "Epoch: 091, Train Acc: 0.7630, Val Acc: 0.6966\n",
      "Epoch: 092, Train Acc: 0.7465, Val Acc: 0.6766\n",
      "Epoch: 093, Train Acc: 0.7596, Val Acc: 0.7046\n",
      "Epoch: 094, Train Acc: 0.7533, Val Acc: 0.7026\n",
      "Epoch: 095, Train Acc: 0.7440, Val Acc: 0.7166\n",
      "Epoch: 096, Train Acc: 0.7577, Val Acc: 0.6906\n",
      "Epoch: 097, Train Acc: 0.7518, Val Acc: 0.6886\n",
      "Epoch: 098, Train Acc: 0.7066, Val Acc: 0.6866\n",
      "Epoch: 099, Train Acc: 0.7577, Val Acc: 0.6826\n",
      "Epoch: 100, Train Acc: 0.7601, Val Acc: 0.6966\n"
     ]
    }
   ],
   "source": [
    "best_test_acc = 0.0\n",
    "for epoch in range(1, 101):\n",
    "    train()\n",
    "    train_acc = test(train_loader)\n",
    "    val_acc = test(val_loader)\n",
    "    print(f'Epoch: {epoch:03d}, Train Acc: {train_acc:.4f}, Val Acc: {val_acc:.4f}')\n",
    "    if val_acc >= best_test_acc:\n",
    "        best_test_acc = val_acc\n",
    "        best_model_params = model.state_dict()\n",
    "        print(\"Checkpoint saved!\")"
   ]
  },
  {
   "cell_type": "markdown",
   "metadata": {},
   "source": [
    "## Eval"
   ]
  },
  {
   "cell_type": "code",
   "execution_count": 21,
   "metadata": {},
   "outputs": [
    {
     "data": {
      "text/plain": [
       "GCN_NCI1(\n",
       "  (conv1): GraphConvolution (37 -> 128)\n",
       "  (conv2): GraphConvolution (128 -> 128)\n",
       "  (dense1): Linear(in_features=128, out_features=16, bias=True)\n",
       "  (dense2): Linear(in_features=16, out_features=8, bias=True)\n",
       "  (dense3): Linear(in_features=8, out_features=2, bias=True)\n",
       ")"
      ]
     },
     "execution_count": 21,
     "metadata": {},
     "output_type": "execute_result"
    }
   ],
   "source": [
    "# best_model_params = torch.load(\"nci1_weights.pt\")\n",
    "model.load_state_dict(best_model_params)\n",
    "model.eval()"
   ]
  },
  {
   "cell_type": "code",
   "execution_count": 22,
   "metadata": {},
   "outputs": [
    {
     "name": "stdout",
     "output_type": "stream",
     "text": [
      "train accuracy: 76.01 %\n",
      "val accuracy: 69.66 %\n",
      "test accuracy: 68.20 %\n"
     ]
    }
   ],
   "source": [
    "for dataset in ['train', 'val', 'test']:\n",
    "    acc = test(eval(f\"{dataset}_loader\"))\n",
    "    print(f\"{dataset} accuracy: {100 * acc:.2f} %\")"
   ]
  },
  {
   "cell_type": "markdown",
   "metadata": {},
   "source": [
    "## Save weights"
   ]
  },
  {
   "cell_type": "code",
   "execution_count": 23,
   "metadata": {},
   "outputs": [],
   "source": [
    "torch.save(best_model_params, \"nci1_weights.pt\")"
   ]
  },
  {
   "cell_type": "markdown",
   "metadata": {},
   "source": [
    "## Rough"
   ]
  },
  {
   "cell_type": "code",
   "execution_count": null,
   "metadata": {},
   "outputs": [],
   "source": []
  }
 ],
 "metadata": {
  "kernelspec": {
   "display_name": "Python 3.9.12 ('gnn')",
   "language": "python",
   "name": "python3"
  },
  "language_info": {
   "codemirror_mode": {
    "name": "ipython",
    "version": 3
   },
   "file_extension": ".py",
   "mimetype": "text/x-python",
   "name": "python",
   "nbconvert_exporter": "python",
   "pygments_lexer": "ipython3",
   "version": "3.9.12"
  },
  "orig_nbformat": 4,
  "vscode": {
   "interpreter": {
    "hash": "68c408a09fc6b9af4d557fa69fd931fc5c0935ab87f3b3ea2b2f71f9a639c9ba"
   }
  }
 },
 "nbformat": 4,
 "nbformat_minor": 2
}
