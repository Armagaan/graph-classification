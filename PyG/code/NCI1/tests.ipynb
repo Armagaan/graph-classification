{
 "cells": [
  {
   "cell_type": "markdown",
   "metadata": {},
   "source": [
    "# NCI1"
   ]
  },
  {
   "cell_type": "code",
   "execution_count": 1,
   "metadata": {},
   "outputs": [
    {
     "data": {
      "text/plain": [
       "<torch._C.Generator at 0x7fea7d6d5f90>"
      ]
     },
     "execution_count": 1,
     "metadata": {},
     "output_type": "execute_result"
    }
   ],
   "source": [
    "import pickle\n",
    "\n",
    "import torch\n",
    "from torch_geometric.loader import DataLoader\n",
    "\n",
    "from GNN import GCN_NCI1\n",
    "from preprocessing import NCI1Dataset\n",
    "\n",
    "torch.manual_seed(12345)"
   ]
  },
  {
   "cell_type": "markdown",
   "metadata": {},
   "source": [
    "## Data"
   ]
  },
  {
   "cell_type": "code",
   "execution_count": 2,
   "metadata": {},
   "outputs": [],
   "source": [
    "dataset = NCI1Dataset(\"../../../data/NCI1\")"
   ]
  },
  {
   "cell_type": "code",
   "execution_count": 3,
   "metadata": {},
   "outputs": [
    {
     "data": {
      "text/plain": [
       "4110"
      ]
     },
     "execution_count": 3,
     "metadata": {},
     "output_type": "execute_result"
    }
   ],
   "source": [
    "len(dataset)"
   ]
  },
  {
   "cell_type": "code",
   "execution_count": 4,
   "metadata": {},
   "outputs": [
    {
     "name": "stdout",
     "output_type": "stream",
     "text": [
      "dict_keys(['idx_train', 'idx_val', 'idx_test'])\n"
     ]
    }
   ],
   "source": [
    "with open(\"../../../data/NCI1/index.pkl\", \"rb\") as file:\n",
    "    index = pickle.load(file)\n",
    "print(index.keys())"
   ]
  },
  {
   "cell_type": "code",
   "execution_count": 5,
   "metadata": {},
   "outputs": [],
   "source": [
    "train_dataset = dataset[index['idx_train']]\n",
    "val_dataset = dataset[index['idx_val']]\n",
    "test_dataset = dataset[index['idx_test']]\n",
    "\n",
    "train_loader = DataLoader(train_dataset, batch_size=64, shuffle=True)\n",
    "val_loader = DataLoader(val_dataset, batch_size=64, shuffle=False)\n",
    "test_loader = DataLoader(test_dataset, batch_size=64, shuffle=False)"
   ]
  },
  {
   "cell_type": "code",
   "execution_count": 15,
   "metadata": {},
   "outputs": [
    {
     "data": {
      "text/plain": [
       "[45.05, 10.98, 43.97]"
      ]
     },
     "execution_count": 15,
     "metadata": {},
     "output_type": "execute_result"
    }
   ],
   "source": [
    "graphs = [len(set(index)) for index in [index['idx_train'], index['idx_val'], index['idx_test']]]\n",
    "[round(100 * i/sum(graphs), 2) for i in graphs]"
   ]
  },
  {
   "cell_type": "code",
   "execution_count": 6,
   "metadata": {},
   "outputs": [
    {
     "name": "stdout",
     "output_type": "stream",
     "text": [
      "DataBatch(x=[1858, 37], edge_index=[2, 4030], y=[64], batch=[1858], ptr=[65])\n"
     ]
    }
   ],
   "source": [
    "for data in train_loader:\n",
    "    print(data)\n",
    "    break"
   ]
  },
  {
   "cell_type": "markdown",
   "metadata": {},
   "source": [
    "## Model"
   ]
  },
  {
   "cell_type": "code",
   "execution_count": 7,
   "metadata": {},
   "outputs": [],
   "source": [
    "model = GCN_NCI1(\n",
    "    in_features=dataset.num_node_features,\n",
    "    h_features=128,\n",
    ")"
   ]
  },
  {
   "cell_type": "code",
   "execution_count": 8,
   "metadata": {},
   "outputs": [
    {
     "name": "stdout",
     "output_type": "stream",
     "text": [
      "GCN_NCI1(\n",
      "  (conv1): GraphConvolution (37 -> 128)\n",
      "  (conv2): GraphConvolution (128 -> 128)\n",
      "  (dense1): Linear(in_features=128, out_features=64, bias=True)\n",
      "  (dense2): Linear(in_features=64, out_features=32, bias=True)\n",
      "  (dense3): Linear(in_features=32, out_features=2, bias=True)\n",
      ")\n"
     ]
    }
   ],
   "source": [
    "print(model)"
   ]
  },
  {
   "cell_type": "markdown",
   "metadata": {},
   "source": [
    "## Train"
   ]
  },
  {
   "cell_type": "code",
   "execution_count": 9,
   "metadata": {},
   "outputs": [],
   "source": [
    "optimizer = torch.optim.Adam(model.parameters(), lr=0.01)\n",
    "criterion = torch.nn.NLLLoss()\n",
    "\n",
    "def train():\n",
    "    model.train()\n",
    "    for data in train_loader: # Iterate in batches over the training dataset.\n",
    "        out = model(data.x, data.edge_index, data.batch)\n",
    "        loss = criterion(out, data.y.long())\n",
    "        loss.backward()\n",
    "        optimizer.step()\n",
    "        optimizer.zero_grad()\n",
    "\n",
    "def test(loader):\n",
    "    model.eval()\n",
    "    correct = 0\n",
    "    for data in loader: # Iterate in batches over the training/test dataset.\n",
    "        out = model(data.x, data.edge_index, data.batch)\n",
    "        pred = torch.argmax(out, dim=-1)\n",
    "        correct += int((pred == data.y.long()).sum())\n",
    "    return correct / len(loader.dataset)"
   ]
  },
  {
   "cell_type": "code",
   "execution_count": 10,
   "metadata": {},
   "outputs": [
    {
     "name": "stdout",
     "output_type": "stream",
     "text": [
      "Epoch: 001, Train Acc: 0.4920, Val Acc: 0.5250\n",
      "Checkpoint saved!\n",
      "Epoch: 002, Train Acc: 0.4920, Val Acc: 0.5250\n",
      "Checkpoint saved!\n",
      "Epoch: 003, Train Acc: 0.5742, Val Acc: 0.5749\n",
      "Checkpoint saved!\n",
      "Epoch: 004, Train Acc: 0.5742, Val Acc: 0.5788\n",
      "Checkpoint saved!\n",
      "Epoch: 005, Train Acc: 0.5864, Val Acc: 0.5729\n",
      "Epoch: 006, Train Acc: 0.5139, Val Acc: 0.4930\n",
      "Epoch: 007, Train Acc: 0.5873, Val Acc: 0.6048\n",
      "Checkpoint saved!\n",
      "Epoch: 008, Train Acc: 0.5903, Val Acc: 0.5828\n",
      "Epoch: 009, Train Acc: 0.6258, Val Acc: 0.6228\n",
      "Checkpoint saved!\n",
      "Epoch: 010, Train Acc: 0.5917, Val Acc: 0.5928\n",
      "Epoch: 011, Train Acc: 0.5640, Val Acc: 0.5250\n",
      "Epoch: 012, Train Acc: 0.5509, Val Acc: 0.5170\n",
      "Epoch: 013, Train Acc: 0.5903, Val Acc: 0.5729\n",
      "Epoch: 014, Train Acc: 0.6092, Val Acc: 0.5968\n",
      "Epoch: 015, Train Acc: 0.6214, Val Acc: 0.6367\n",
      "Checkpoint saved!\n",
      "Epoch: 016, Train Acc: 0.6102, Val Acc: 0.5609\n",
      "Epoch: 017, Train Acc: 0.6282, Val Acc: 0.5888\n",
      "Epoch: 018, Train Acc: 0.6360, Val Acc: 0.6287\n",
      "Epoch: 019, Train Acc: 0.6511, Val Acc: 0.6128\n",
      "Epoch: 020, Train Acc: 0.5966, Val Acc: 0.5968\n",
      "Epoch: 021, Train Acc: 0.6370, Val Acc: 0.5808\n",
      "Epoch: 022, Train Acc: 0.6316, Val Acc: 0.6267\n",
      "Epoch: 023, Train Acc: 0.6545, Val Acc: 0.6387\n",
      "Checkpoint saved!\n",
      "Epoch: 024, Train Acc: 0.6277, Val Acc: 0.6567\n",
      "Checkpoint saved!\n",
      "Epoch: 025, Train Acc: 0.6555, Val Acc: 0.6407\n",
      "Epoch: 026, Train Acc: 0.6482, Val Acc: 0.6427\n",
      "Epoch: 027, Train Acc: 0.6676, Val Acc: 0.6307\n",
      "Epoch: 028, Train Acc: 0.6258, Val Acc: 0.5968\n",
      "Epoch: 029, Train Acc: 0.6472, Val Acc: 0.6208\n",
      "Epoch: 030, Train Acc: 0.6316, Val Acc: 0.6747\n",
      "Checkpoint saved!\n",
      "Epoch: 031, Train Acc: 0.6501, Val Acc: 0.6507\n",
      "Epoch: 032, Train Acc: 0.6000, Val Acc: 0.5868\n",
      "Epoch: 033, Train Acc: 0.6603, Val Acc: 0.6387\n",
      "Epoch: 034, Train Acc: 0.6448, Val Acc: 0.6367\n",
      "Epoch: 035, Train Acc: 0.6686, Val Acc: 0.6547\n",
      "Epoch: 036, Train Acc: 0.6136, Val Acc: 0.5948\n",
      "Epoch: 037, Train Acc: 0.6204, Val Acc: 0.6287\n",
      "Epoch: 038, Train Acc: 0.6394, Val Acc: 0.6088\n",
      "Epoch: 039, Train Acc: 0.6540, Val Acc: 0.6607\n",
      "Epoch: 040, Train Acc: 0.6136, Val Acc: 0.6527\n",
      "Epoch: 041, Train Acc: 0.6798, Val Acc: 0.6567\n",
      "Epoch: 042, Train Acc: 0.6399, Val Acc: 0.6307\n",
      "Epoch: 043, Train Acc: 0.6092, Val Acc: 0.6307\n",
      "Epoch: 044, Train Acc: 0.6642, Val Acc: 0.6567\n",
      "Epoch: 045, Train Acc: 0.6754, Val Acc: 0.6667\n",
      "Epoch: 046, Train Acc: 0.6564, Val Acc: 0.6507\n",
      "Epoch: 047, Train Acc: 0.6725, Val Acc: 0.6587\n",
      "Epoch: 048, Train Acc: 0.6856, Val Acc: 0.6806\n",
      "Checkpoint saved!\n",
      "Epoch: 049, Train Acc: 0.6993, Val Acc: 0.6846\n",
      "Checkpoint saved!\n",
      "Epoch: 050, Train Acc: 0.6891, Val Acc: 0.6786\n",
      "Epoch: 051, Train Acc: 0.7002, Val Acc: 0.6866\n",
      "Checkpoint saved!\n",
      "Epoch: 052, Train Acc: 0.5737, Val Acc: 0.6068\n",
      "Epoch: 053, Train Acc: 0.6423, Val Acc: 0.6427\n",
      "Epoch: 054, Train Acc: 0.6555, Val Acc: 0.6747\n",
      "Epoch: 055, Train Acc: 0.6837, Val Acc: 0.7026\n",
      "Checkpoint saved!\n",
      "Epoch: 056, Train Acc: 0.6832, Val Acc: 0.6687\n",
      "Epoch: 057, Train Acc: 0.6847, Val Acc: 0.6906\n",
      "Epoch: 058, Train Acc: 0.7124, Val Acc: 0.6906\n",
      "Epoch: 059, Train Acc: 0.6788, Val Acc: 0.6687\n",
      "Epoch: 060, Train Acc: 0.7056, Val Acc: 0.7166\n",
      "Checkpoint saved!\n",
      "Epoch: 061, Train Acc: 0.7114, Val Acc: 0.6986\n",
      "Epoch: 062, Train Acc: 0.7012, Val Acc: 0.6906\n",
      "Epoch: 063, Train Acc: 0.6964, Val Acc: 0.6707\n",
      "Epoch: 064, Train Acc: 0.7095, Val Acc: 0.7066\n",
      "Epoch: 065, Train Acc: 0.6783, Val Acc: 0.6687\n",
      "Epoch: 066, Train Acc: 0.7221, Val Acc: 0.6966\n",
      "Epoch: 067, Train Acc: 0.6964, Val Acc: 0.7146\n",
      "Epoch: 068, Train Acc: 0.7163, Val Acc: 0.6906\n",
      "Epoch: 069, Train Acc: 0.6978, Val Acc: 0.6846\n",
      "Epoch: 070, Train Acc: 0.7265, Val Acc: 0.7066\n",
      "Epoch: 071, Train Acc: 0.7197, Val Acc: 0.7006\n",
      "Epoch: 072, Train Acc: 0.7217, Val Acc: 0.6946\n",
      "Epoch: 073, Train Acc: 0.7436, Val Acc: 0.7006\n",
      "Epoch: 074, Train Acc: 0.7436, Val Acc: 0.7186\n",
      "Checkpoint saved!\n",
      "Epoch: 075, Train Acc: 0.7358, Val Acc: 0.6886\n",
      "Epoch: 076, Train Acc: 0.7436, Val Acc: 0.7106\n",
      "Epoch: 077, Train Acc: 0.7324, Val Acc: 0.7146\n",
      "Epoch: 078, Train Acc: 0.7421, Val Acc: 0.7046\n",
      "Epoch: 079, Train Acc: 0.7484, Val Acc: 0.7046\n",
      "Epoch: 080, Train Acc: 0.7426, Val Acc: 0.7186\n",
      "Checkpoint saved!\n",
      "Epoch: 081, Train Acc: 0.7290, Val Acc: 0.7066\n",
      "Epoch: 082, Train Acc: 0.7494, Val Acc: 0.7046\n",
      "Epoch: 083, Train Acc: 0.7260, Val Acc: 0.6707\n",
      "Epoch: 084, Train Acc: 0.7547, Val Acc: 0.6986\n",
      "Epoch: 085, Train Acc: 0.6735, Val Acc: 0.6527\n",
      "Epoch: 086, Train Acc: 0.7290, Val Acc: 0.6786\n",
      "Epoch: 087, Train Acc: 0.7455, Val Acc: 0.7026\n",
      "Epoch: 088, Train Acc: 0.7105, Val Acc: 0.6826\n",
      "Epoch: 089, Train Acc: 0.6876, Val Acc: 0.6607\n",
      "Epoch: 090, Train Acc: 0.7567, Val Acc: 0.7066\n",
      "Epoch: 091, Train Acc: 0.7436, Val Acc: 0.6866\n",
      "Epoch: 092, Train Acc: 0.7669, Val Acc: 0.7146\n",
      "Epoch: 093, Train Acc: 0.7401, Val Acc: 0.7086\n",
      "Epoch: 094, Train Acc: 0.7455, Val Acc: 0.7006\n",
      "Epoch: 095, Train Acc: 0.7732, Val Acc: 0.7166\n",
      "Epoch: 096, Train Acc: 0.7630, Val Acc: 0.6946\n",
      "Epoch: 097, Train Acc: 0.7630, Val Acc: 0.7285\n",
      "Checkpoint saved!\n",
      "Epoch: 098, Train Acc: 0.7440, Val Acc: 0.7206\n",
      "Epoch: 099, Train Acc: 0.7669, Val Acc: 0.7046\n",
      "Epoch: 100, Train Acc: 0.7562, Val Acc: 0.6966\n"
     ]
    }
   ],
   "source": [
    "best_test_acc = 0.0\n",
    "for epoch in range(1, 101):\n",
    "    train()\n",
    "    train_acc = test(train_loader)\n",
    "    val_acc = test(val_loader)\n",
    "    print(f'Epoch: {epoch:03d}, Train Acc: {train_acc:.4f}, Val Acc: {val_acc:.4f}')\n",
    "    if val_acc >= best_test_acc:\n",
    "        best_test_acc = val_acc\n",
    "        best_model_params = model.state_dict()\n",
    "        print(\"Checkpoint saved!\")"
   ]
  },
  {
   "cell_type": "markdown",
   "metadata": {},
   "source": [
    "## Eval"
   ]
  },
  {
   "cell_type": "code",
   "execution_count": 11,
   "metadata": {},
   "outputs": [
    {
     "data": {
      "text/plain": [
       "GCN_NCI1(\n",
       "  (conv1): GraphConvolution (37 -> 128)\n",
       "  (conv2): GraphConvolution (128 -> 128)\n",
       "  (dense1): Linear(in_features=128, out_features=64, bias=True)\n",
       "  (dense2): Linear(in_features=64, out_features=32, bias=True)\n",
       "  (dense3): Linear(in_features=32, out_features=2, bias=True)\n",
       ")"
      ]
     },
     "execution_count": 11,
     "metadata": {},
     "output_type": "execute_result"
    }
   ],
   "source": [
    "# best_model_params = torch.load(\"nci1_weights.pt\")\n",
    "model.load_state_dict(best_model_params)\n",
    "model.eval()"
   ]
  },
  {
   "cell_type": "code",
   "execution_count": 12,
   "metadata": {},
   "outputs": [
    {
     "name": "stdout",
     "output_type": "stream",
     "text": [
      "train accuracy: 75.62 %\n",
      "val accuracy: 69.66 %\n",
      "test accuracy: 68.00 %\n"
     ]
    }
   ],
   "source": [
    "for dataset in ['train', 'val', 'test']:\n",
    "    acc = test(eval(f\"{dataset}_loader\"))\n",
    "    print(f\"{dataset} accuracy: {100 * acc:.2f} %\")"
   ]
  },
  {
   "cell_type": "markdown",
   "metadata": {},
   "source": [
    "## Save weights"
   ]
  },
  {
   "cell_type": "code",
   "execution_count": 13,
   "metadata": {},
   "outputs": [],
   "source": [
    "torch.save(best_model_params, \"nci1_weights.pt\")"
   ]
  },
  {
   "cell_type": "markdown",
   "metadata": {},
   "source": [
    "## Rough"
   ]
  },
  {
   "cell_type": "code",
   "execution_count": null,
   "metadata": {},
   "outputs": [],
   "source": []
  }
 ],
 "metadata": {
  "kernelspec": {
   "display_name": "Python 3.9.12 ('gnn')",
   "language": "python",
   "name": "python3"
  },
  "language_info": {
   "codemirror_mode": {
    "name": "ipython",
    "version": 3
   },
   "file_extension": ".py",
   "mimetype": "text/x-python",
   "name": "python",
   "nbconvert_exporter": "python",
   "pygments_lexer": "ipython3",
   "version": "3.9.12"
  },
  "orig_nbformat": 4,
  "vscode": {
   "interpreter": {
    "hash": "68c408a09fc6b9af4d557fa69fd931fc5c0935ab87f3b3ea2b2f71f9a639c9ba"
   }
  }
 },
 "nbformat": 4,
 "nbformat_minor": 2
}
