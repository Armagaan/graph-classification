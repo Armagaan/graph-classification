{
 "cells": [
  {
   "cell_type": "code",
   "execution_count": 1,
   "metadata": {},
   "outputs": [
    {
     "data": {
      "text/plain": [
       "<torch._C.Generator at 0x7f5af3458070>"
      ]
     },
     "execution_count": 1,
     "metadata": {},
     "output_type": "execute_result"
    }
   ],
   "source": [
    "import torch\n",
    "from torch_geometric.datasets import TUDataset\n",
    "\n",
    "from GNN import GCN_Mutag\n",
    "\n",
    "torch.manual_seed(12345)"
   ]
  },
  {
   "cell_type": "code",
   "execution_count": 2,
   "metadata": {},
   "outputs": [
    {
     "name": "stdout",
     "output_type": "stream",
     "text": [
      "\n",
      "Dataset: MUTAG(188):\n",
      "====================\n",
      "Number of graphs: 188\n",
      "Number of features: 7\n",
      "Number of classes: 2\n",
      "\n",
      "Data(edge_index=[2, 38], x=[17, 7], edge_attr=[38, 4], y=[1])\n",
      "=============================================================\n",
      "Number of nodes: 17\n",
      "Number of edges: 38\n",
      "Average node degree: 2.24\n",
      "Has isolated nodes: False\n",
      "Has self-loops: False\n",
      "Is undirected: True\n"
     ]
    }
   ],
   "source": [
    "dataset = TUDataset(root='data/TUDataset', name='MUTAG')\n",
    "\n",
    "print()\n",
    "print(f'Dataset: {dataset}:')\n",
    "print('====================')\n",
    "print(f'Number of graphs: {len(dataset)}')\n",
    "print(f'Number of features: {dataset.num_features}')\n",
    "print(f'Number of classes: {dataset.num_classes}')\n",
    "\n",
    "data = dataset[0]  # Get the first graph object.\n",
    "\n",
    "print()\n",
    "print(data)\n",
    "print('=============================================================')\n",
    "\n",
    "# Gather some statistics about the first graph.\n",
    "print(f'Number of nodes: {data.num_nodes}')\n",
    "print(f'Number of edges: {data.num_edges}')\n",
    "print(f'Average node degree: {data.num_edges / data.num_nodes:.2f}')\n",
    "print(f'Has isolated nodes: {data.has_isolated_nodes()}')\n",
    "print(f'Has self-loops: {data.has_self_loops()}')\n",
    "print(f'Is undirected: {data.is_undirected()}')"
   ]
  },
  {
   "cell_type": "code",
   "execution_count": 3,
   "metadata": {},
   "outputs": [
    {
     "name": "stdout",
     "output_type": "stream",
     "text": [
      "Number of training graphs: 150\n",
      "Number of test graphs: 38\n"
     ]
    }
   ],
   "source": [
    "dataset = dataset.shuffle()\n",
    "\n",
    "train_dataset = dataset[:150]\n",
    "test_dataset = dataset[150:]\n",
    "\n",
    "print(f'Number of training graphs: {len(train_dataset)}')\n",
    "print(f'Number of test graphs: {len(test_dataset)}')"
   ]
  },
  {
   "cell_type": "code",
   "execution_count": 4,
   "metadata": {},
   "outputs": [
    {
     "name": "stdout",
     "output_type": "stream",
     "text": [
      "Step 1:\n",
      "=======\n",
      "Number of graphs in the current batch: 64\n",
      "DataBatch(edge_index=[2, 2636], x=[1188, 7], edge_attr=[2636, 4], y=[64], batch=[1188], ptr=[65])\n",
      "\n",
      "Step 2:\n",
      "=======\n",
      "Number of graphs in the current batch: 64\n",
      "DataBatch(edge_index=[2, 2506], x=[1139, 7], edge_attr=[2506, 4], y=[64], batch=[1139], ptr=[65])\n",
      "\n",
      "Step 3:\n",
      "=======\n",
      "Number of graphs in the current batch: 22\n",
      "DataBatch(edge_index=[2, 852], x=[387, 7], edge_attr=[852, 4], y=[22], batch=[387], ptr=[23])\n",
      "\n"
     ]
    }
   ],
   "source": [
    "from torch_geometric.loader import DataLoader\n",
    "\n",
    "train_loader = DataLoader(train_dataset, batch_size=64, shuffle=True)\n",
    "test_loader = DataLoader(test_dataset, batch_size=64, shuffle=False)\n",
    "\n",
    "for step, data in enumerate(train_loader):\n",
    "    print(f'Step {step + 1}:')\n",
    "    print('=======')\n",
    "    print(f'Number of graphs in the current batch: {data.num_graphs}')\n",
    "    print(data)\n",
    "    print()"
   ]
  },
  {
   "cell_type": "code",
   "execution_count": 5,
   "metadata": {},
   "outputs": [
    {
     "name": "stdout",
     "output_type": "stream",
     "text": [
      "GCN_Mutag(\n",
      "  (conv1): GraphConvolution (7 -> 128)\n",
      "  (conv2): GraphConvolution (128 -> 128)\n",
      "  (conv3): GraphConvolution (128 -> 128)\n",
      "  (dense1): Linear(in_features=128, out_features=16, bias=True)\n",
      "  (dense2): Linear(in_features=16, out_features=8, bias=True)\n",
      "  (dense3): Linear(in_features=8, out_features=1, bias=True)\n",
      ")\n"
     ]
    }
   ],
   "source": [
    "model = GCN_Mutag(\n",
    "    in_features=dataset.num_node_features,\n",
    "    h_features=128,\n",
    "    n_classes=2\n",
    ")\n",
    "print(model)"
   ]
  },
  {
   "cell_type": "code",
   "execution_count": 33,
   "metadata": {},
   "outputs": [],
   "source": [
    "optimizer = torch.optim.Adam(model.parameters(), lr=0.01)\n",
    "criterion = torch.nn.BCELoss()\n",
    "\n",
    "def train():\n",
    "    model.train()\n",
    "    for data in train_loader:  # Iterate in batches over the training dataset.\n",
    "        out = model(data.x, data.edge_index, data.batch).squeeze()  # Perform a single forward pass.\n",
    "        loss = criterion(out, data.y.float()) # Compute the loss.\n",
    "        loss.backward()  # Derive gradients.\n",
    "        optimizer.step()  # Update parameters based on gradients.\n",
    "        optimizer.zero_grad()  # Clear gradients.\n",
    "\n",
    "def test(loader):\n",
    "    model.eval()\n",
    "    correct = 0\n",
    "    for data in loader:  # Iterate in batches over the training/test dataset.\n",
    "        out = model(data.x, data.edge_index, data.batch).squeeze()  \n",
    "        pred = out.round()\n",
    "        # pred = out.argmax(dim=1)  # Use the class with highest probability.\n",
    "        correct += int((pred == data.y).sum())  # Check against ground-truth labels.\n",
    "    return correct / len(loader.dataset)  # Derive ratio of correct predictions."
   ]
  },
  {
   "cell_type": "code",
   "execution_count": 36,
   "metadata": {},
   "outputs": [
    {
     "name": "stdout",
     "output_type": "stream",
     "text": [
      "Epoch: 001, Train Acc: 0.7600, Test Acc: 0.7895\n",
      "Checkpoint saved!\n",
      "Epoch: 002, Train Acc: 0.7467, Test Acc: 0.7368\n",
      "Epoch: 003, Train Acc: 0.7400, Test Acc: 0.8158\n",
      "Checkpoint saved!\n",
      "Epoch: 004, Train Acc: 0.7600, Test Acc: 0.7105\n",
      "Epoch: 005, Train Acc: 0.7533, Test Acc: 0.8158\n",
      "Checkpoint saved!\n",
      "Epoch: 006, Train Acc: 0.7600, Test Acc: 0.6579\n",
      "Epoch: 007, Train Acc: 0.7467, Test Acc: 0.7895\n",
      "Epoch: 008, Train Acc: 0.7467, Test Acc: 0.7895\n",
      "Epoch: 009, Train Acc: 0.7600, Test Acc: 0.7105\n",
      "Epoch: 010, Train Acc: 0.7600, Test Acc: 0.8158\n",
      "Checkpoint saved!\n",
      "Epoch: 011, Train Acc: 0.7533, Test Acc: 0.8158\n",
      "Checkpoint saved!\n",
      "Epoch: 012, Train Acc: 0.7733, Test Acc: 0.8158\n",
      "Checkpoint saved!\n",
      "Epoch: 013, Train Acc: 0.7533, Test Acc: 0.7895\n",
      "Epoch: 014, Train Acc: 0.7600, Test Acc: 0.7895\n",
      "Epoch: 015, Train Acc: 0.7667, Test Acc: 0.8158\n",
      "Checkpoint saved!\n",
      "Epoch: 016, Train Acc: 0.7667, Test Acc: 0.8158\n",
      "Checkpoint saved!\n",
      "Epoch: 017, Train Acc: 0.7800, Test Acc: 0.7632\n",
      "Epoch: 018, Train Acc: 0.7800, Test Acc: 0.7632\n",
      "Epoch: 019, Train Acc: 0.7600, Test Acc: 0.7895\n",
      "Epoch: 020, Train Acc: 0.7733, Test Acc: 0.7632\n",
      "Epoch: 021, Train Acc: 0.7800, Test Acc: 0.7895\n",
      "Epoch: 022, Train Acc: 0.7667, Test Acc: 0.8158\n",
      "Checkpoint saved!\n",
      "Epoch: 023, Train Acc: 0.7800, Test Acc: 0.7895\n",
      "Epoch: 024, Train Acc: 0.7733, Test Acc: 0.7895\n",
      "Epoch: 025, Train Acc: 0.7867, Test Acc: 0.8158\n",
      "Checkpoint saved!\n",
      "Epoch: 026, Train Acc: 0.7867, Test Acc: 0.8158\n",
      "Checkpoint saved!\n",
      "Epoch: 027, Train Acc: 0.8267, Test Acc: 0.8158\n",
      "Checkpoint saved!\n",
      "Epoch: 028, Train Acc: 0.8333, Test Acc: 0.8158\n",
      "Checkpoint saved!\n",
      "Epoch: 029, Train Acc: 0.8000, Test Acc: 0.7632\n",
      "Epoch: 030, Train Acc: 0.7733, Test Acc: 0.8158\n",
      "Checkpoint saved!\n",
      "Epoch: 031, Train Acc: 0.8067, Test Acc: 0.7368\n",
      "Epoch: 032, Train Acc: 0.8067, Test Acc: 0.8158\n",
      "Checkpoint saved!\n",
      "Epoch: 033, Train Acc: 0.8467, Test Acc: 0.7632\n",
      "Epoch: 034, Train Acc: 0.8533, Test Acc: 0.7632\n",
      "Epoch: 035, Train Acc: 0.7800, Test Acc: 0.7368\n",
      "Epoch: 036, Train Acc: 0.8200, Test Acc: 0.7368\n",
      "Epoch: 037, Train Acc: 0.8400, Test Acc: 0.8158\n",
      "Checkpoint saved!\n",
      "Epoch: 038, Train Acc: 0.8000, Test Acc: 0.7105\n",
      "Epoch: 039, Train Acc: 0.7467, Test Acc: 0.7632\n",
      "Epoch: 040, Train Acc: 0.8800, Test Acc: 0.7632\n",
      "Epoch: 041, Train Acc: 0.8600, Test Acc: 0.8158\n",
      "Checkpoint saved!\n",
      "Epoch: 042, Train Acc: 0.8333, Test Acc: 0.7895\n",
      "Epoch: 043, Train Acc: 0.8333, Test Acc: 0.8158\n",
      "Checkpoint saved!\n",
      "Epoch: 044, Train Acc: 0.8467, Test Acc: 0.7632\n",
      "Epoch: 045, Train Acc: 0.8467, Test Acc: 0.7368\n",
      "Epoch: 046, Train Acc: 0.8800, Test Acc: 0.7895\n",
      "Epoch: 047, Train Acc: 0.8733, Test Acc: 0.8158\n",
      "Checkpoint saved!\n",
      "Epoch: 048, Train Acc: 0.8467, Test Acc: 0.8158\n",
      "Checkpoint saved!\n",
      "Epoch: 049, Train Acc: 0.8333, Test Acc: 0.8158\n",
      "Checkpoint saved!\n",
      "Epoch: 050, Train Acc: 0.8533, Test Acc: 0.7368\n",
      "Epoch: 051, Train Acc: 0.8467, Test Acc: 0.7895\n",
      "Epoch: 052, Train Acc: 0.8067, Test Acc: 0.7368\n",
      "Epoch: 053, Train Acc: 0.8533, Test Acc: 0.7895\n",
      "Epoch: 054, Train Acc: 0.8267, Test Acc: 0.7368\n",
      "Epoch: 055, Train Acc: 0.8467, Test Acc: 0.7632\n",
      "Epoch: 056, Train Acc: 0.8600, Test Acc: 0.7632\n",
      "Epoch: 057, Train Acc: 0.8333, Test Acc: 0.8421\n",
      "Checkpoint saved!\n",
      "Epoch: 058, Train Acc: 0.8533, Test Acc: 0.8158\n",
      "Epoch: 059, Train Acc: 0.8133, Test Acc: 0.7368\n",
      "Epoch: 060, Train Acc: 0.7533, Test Acc: 0.7632\n",
      "Epoch: 061, Train Acc: 0.8600, Test Acc: 0.7895\n",
      "Epoch: 062, Train Acc: 0.8733, Test Acc: 0.7632\n",
      "Epoch: 063, Train Acc: 0.7733, Test Acc: 0.7632\n",
      "Epoch: 064, Train Acc: 0.9000, Test Acc: 0.7895\n",
      "Epoch: 065, Train Acc: 0.8933, Test Acc: 0.8158\n",
      "Epoch: 066, Train Acc: 0.8067, Test Acc: 0.7632\n",
      "Epoch: 067, Train Acc: 0.9067, Test Acc: 0.8158\n",
      "Epoch: 068, Train Acc: 0.8667, Test Acc: 0.8158\n",
      "Epoch: 069, Train Acc: 0.8467, Test Acc: 0.7895\n",
      "Epoch: 070, Train Acc: 0.8400, Test Acc: 0.7632\n",
      "Epoch: 071, Train Acc: 0.8400, Test Acc: 0.7895\n",
      "Epoch: 072, Train Acc: 0.8667, Test Acc: 0.7895\n",
      "Epoch: 073, Train Acc: 0.8867, Test Acc: 0.7368\n",
      "Epoch: 074, Train Acc: 0.8733, Test Acc: 0.7895\n",
      "Epoch: 075, Train Acc: 0.9067, Test Acc: 0.7895\n",
      "Epoch: 076, Train Acc: 0.9000, Test Acc: 0.7895\n",
      "Epoch: 077, Train Acc: 0.8933, Test Acc: 0.7368\n",
      "Epoch: 078, Train Acc: 0.8600, Test Acc: 0.8158\n",
      "Epoch: 079, Train Acc: 0.8600, Test Acc: 0.7895\n",
      "Epoch: 080, Train Acc: 0.8867, Test Acc: 0.7895\n",
      "Epoch: 081, Train Acc: 0.8933, Test Acc: 0.7895\n",
      "Epoch: 082, Train Acc: 0.8933, Test Acc: 0.8158\n",
      "Epoch: 083, Train Acc: 0.8800, Test Acc: 0.7895\n",
      "Epoch: 084, Train Acc: 0.9000, Test Acc: 0.8158\n",
      "Epoch: 085, Train Acc: 0.8600, Test Acc: 0.8158\n",
      "Epoch: 086, Train Acc: 0.8933, Test Acc: 0.8158\n",
      "Epoch: 087, Train Acc: 0.9067, Test Acc: 0.8158\n",
      "Epoch: 088, Train Acc: 0.8600, Test Acc: 0.8421\n",
      "Checkpoint saved!\n",
      "Epoch: 089, Train Acc: 0.8867, Test Acc: 0.7895\n",
      "Epoch: 090, Train Acc: 0.8733, Test Acc: 0.7895\n",
      "Epoch: 091, Train Acc: 0.8867, Test Acc: 0.7632\n",
      "Epoch: 092, Train Acc: 0.8600, Test Acc: 0.7632\n",
      "Epoch: 093, Train Acc: 0.8467, Test Acc: 0.7368\n",
      "Epoch: 094, Train Acc: 0.8600, Test Acc: 0.7368\n",
      "Epoch: 095, Train Acc: 0.8467, Test Acc: 0.7368\n",
      "Epoch: 096, Train Acc: 0.8133, Test Acc: 0.6316\n",
      "Epoch: 097, Train Acc: 0.8533, Test Acc: 0.8158\n",
      "Epoch: 098, Train Acc: 0.8933, Test Acc: 0.7632\n",
      "Epoch: 099, Train Acc: 0.8533, Test Acc: 0.7632\n"
     ]
    }
   ],
   "source": [
    "best_test_acc = 0.0\n",
    "for epoch in range(1, 100):\n",
    "    train()\n",
    "    train_acc = test(train_loader)\n",
    "    test_acc = test(test_loader)\n",
    "    print(f'Epoch: {epoch:03d}, Train Acc: {train_acc:.4f}, Test Acc: {test_acc:.4f}')\n",
    "    if test_acc >= best_test_acc:\n",
    "        best_test_acc = test_acc\n",
    "        best_model_params = model.state_dict()\n",
    "        print(\"Checkpoint saved!\")"
   ]
  },
  {
   "cell_type": "markdown",
   "metadata": {},
   "source": [
    "## Rough"
   ]
  },
  {
   "cell_type": "code",
   "execution_count": null,
   "metadata": {},
   "outputs": [],
   "source": [
    "dataset[0]"
   ]
  },
  {
   "cell_type": "code",
   "execution_count": 22,
   "metadata": {},
   "outputs": [],
   "source": [
    "m = torch.nn.Sigmoid()\n",
    "loss = torch.nn.BCELoss()\n",
    "input = torch.Tensor([0.0, 1.0, 0.0])\n",
    "target = torch.Tensor([0., 1., 0.])\n",
    "output = loss(input, target)"
   ]
  },
  {
   "cell_type": "code",
   "execution_count": 23,
   "metadata": {},
   "outputs": [
    {
     "data": {
      "text/plain": [
       "tensor(0.)"
      ]
     },
     "execution_count": 23,
     "metadata": {},
     "output_type": "execute_result"
    }
   ],
   "source": [
    "output"
   ]
  },
  {
   "cell_type": "code",
   "execution_count": null,
   "metadata": {},
   "outputs": [],
   "source": []
  }
 ],
 "metadata": {
  "kernelspec": {
   "display_name": "Python 3.9.12 ('gnn')",
   "language": "python",
   "name": "python3"
  },
  "language_info": {
   "codemirror_mode": {
    "name": "ipython",
    "version": 3
   },
   "file_extension": ".py",
   "mimetype": "text/x-python",
   "name": "python",
   "nbconvert_exporter": "python",
   "pygments_lexer": "ipython3",
   "version": "3.9.12"
  },
  "orig_nbformat": 4,
  "vscode": {
   "interpreter": {
    "hash": "68c408a09fc6b9af4d557fa69fd931fc5c0935ab87f3b3ea2b2f71f9a639c9ba"
   }
  }
 },
 "nbformat": 4,
 "nbformat_minor": 2
}
