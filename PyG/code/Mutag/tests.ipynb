{
 "cells": [
  {
   "cell_type": "markdown",
   "metadata": {},
   "source": [
    "# Mutag"
   ]
  },
  {
   "cell_type": "code",
   "execution_count": 1,
   "metadata": {},
   "outputs": [
    {
     "data": {
      "text/plain": [
       "<torch._C.Generator at 0x7f61b8045530>"
      ]
     },
     "execution_count": 1,
     "metadata": {},
     "output_type": "execute_result"
    }
   ],
   "source": [
    "import pickle\n",
    "\n",
    "import torch\n",
    "from torch_geometric.datasets import TUDataset\n",
    "from torch_geometric.loader import DataLoader\n",
    "\n",
    "from GNN import GCN_Mutag\n",
    "\n",
    "torch.manual_seed(12345)"
   ]
  },
  {
   "cell_type": "markdown",
   "metadata": {},
   "source": [
    "## Data"
   ]
  },
  {
   "cell_type": "code",
   "execution_count": 2,
   "metadata": {},
   "outputs": [
    {
     "name": "stdout",
     "output_type": "stream",
     "text": [
      "\n",
      "Dataset: Mutagenicity(2301):\n",
      "====================\n",
      "Number of graphs: 2301\n",
      "Number of features: 10\n",
      "Number of classes: 2\n",
      "\n",
      "Data(edge_index=[2, 154], x=[72, 10], y=[1])\n",
      "=============================================================\n",
      "Number of nodes: 72\n",
      "Number of edges: 154\n",
      "Average node degree: 2.14\n",
      "Has isolated nodes: False\n",
      "Has self-loops: False\n",
      "Is undirected: True\n"
     ]
    }
   ],
   "source": [
    "dataset = TUDataset(\n",
    "    root='../../../data/',\n",
    "    name='Mutagenicity',\n",
    "    \n",
    ")\n",
    "\n",
    "print()\n",
    "print(f'Dataset: {dataset}:')\n",
    "print('====================')\n",
    "print(f'Number of graphs: {len(dataset)}')\n",
    "print(f'Number of features: {dataset.num_features}')\n",
    "print(f'Number of classes: {dataset.num_classes}')\n",
    "\n",
    "data = dataset[0]  # Get the first graph object.\n",
    "\n",
    "print()\n",
    "print(data)\n",
    "print('=============================================================')\n",
    "\n",
    "# Gather some statistics about the first graph.\n",
    "print(f'Number of nodes: {data.num_nodes}')\n",
    "print(f'Number of edges: {data.num_edges}')\n",
    "print(f'Average node degree: {data.num_edges / data.num_nodes:.2f}')\n",
    "print(f'Has isolated nodes: {data.has_isolated_nodes()}')\n",
    "print(f'Has self-loops: {data.has_self_loops()}')\n",
    "print(f'Is undirected: {data.is_undirected()}')"
   ]
  },
  {
   "cell_type": "code",
   "execution_count": 3,
   "metadata": {},
   "outputs": [
    {
     "name": "stdout",
     "output_type": "stream",
     "text": [
      "dict_keys(['idx_train', 'idx_val', 'idx_test'])\n"
     ]
    }
   ],
   "source": [
    "with open(\"../../../data/Mutagenicity/processed/index.pkl\", \"rb\") as file:\n",
    "    index = pickle.load(file)\n",
    "print(index.keys())"
   ]
  },
  {
   "cell_type": "code",
   "execution_count": 4,
   "metadata": {},
   "outputs": [
    {
     "name": "stdout",
     "output_type": "stream",
     "text": [
      "Number of training graphs: 1150\n",
      "Number of val graphs: 282\n",
      "Number of test graphs: 1132\n"
     ]
    }
   ],
   "source": [
    "train_dataset = dataset[index['idx_train']]\n",
    "val_dataset = dataset[index['idx_val']]\n",
    "test_dataset = dataset[index['idx_test']]\n",
    "\n",
    "print(f'Number of training graphs: {len(train_dataset)}')\n",
    "print(f'Number of val graphs: {len(val_dataset)}')\n",
    "print(f'Number of test graphs: {len(test_dataset)}')"
   ]
  },
  {
   "cell_type": "code",
   "execution_count": 25,
   "metadata": {},
   "outputs": [
    {
     "data": {
      "text/plain": [
       "[44.85, 11.0, 44.15]"
      ]
     },
     "execution_count": 25,
     "metadata": {},
     "output_type": "execute_result"
    }
   ],
   "source": [
    "graphs = [len(set(index)) for index in [index['idx_train'], index['idx_val'], index['idx_test']]]\n",
    "[round(100 * i/sum(graphs), 2) for i in graphs]"
   ]
  },
  {
   "cell_type": "code",
   "execution_count": 5,
   "metadata": {},
   "outputs": [],
   "source": [
    "train_loader = DataLoader(train_dataset, batch_size=64, shuffle=True)\n",
    "val_loader = DataLoader(val_dataset, batch_size=64, shuffle=False)\n",
    "test_loader = DataLoader(test_dataset, batch_size=64, shuffle=False)\n",
    "\n",
    "# for step, data in enumerate(train_loader):\n",
    "#     print(f'Step {step + 1}:')\n",
    "#     print('=======')\n",
    "#     print(f'Number of graphs in the current batch: {data.num_graphs}')\n",
    "#     print(data)\n",
    "#     print()"
   ]
  },
  {
   "cell_type": "markdown",
   "metadata": {},
   "source": [
    "## Model"
   ]
  },
  {
   "cell_type": "code",
   "execution_count": 6,
   "metadata": {},
   "outputs": [
    {
     "name": "stdout",
     "output_type": "stream",
     "text": [
      "GCN_Mutag(\n",
      "  (conv1): GraphConvolution (10 -> 64)\n",
      "  (conv2): GraphConvolution (64 -> 64)\n",
      "  (conv3): GraphConvolution (64 -> 64)\n",
      "  (conv4): GraphConvolution (64 -> 64)\n",
      "  (conv5): GraphConvolution (64 -> 64)\n",
      "  (dense1): Linear(in_features=64, out_features=16, bias=True)\n",
      "  (dense2): Linear(in_features=16, out_features=8, bias=True)\n",
      "  (dense3): Linear(in_features=8, out_features=2, bias=True)\n",
      ")\n"
     ]
    }
   ],
   "source": [
    "model = GCN_Mutag(\n",
    "    in_features=dataset.num_node_features,\n",
    "    h_features=64,\n",
    ")\n",
    "print(model)"
   ]
  },
  {
   "cell_type": "markdown",
   "metadata": {},
   "source": [
    "## Train"
   ]
  },
  {
   "cell_type": "code",
   "execution_count": 14,
   "metadata": {},
   "outputs": [],
   "source": [
    "optimizer = torch.optim.Adam(model.parameters(), lr=0.01)\n",
    "criterion = torch.nn.NLLLoss()\n",
    "\n",
    "def train():\n",
    "    model.train()\n",
    "    for data in train_loader:  # Iterate in batches over the training dataset.\n",
    "        out = model(data.x, data.edge_index, data.batch)\n",
    "        loss = criterion(out, data.y.long())\n",
    "        loss.backward()\n",
    "        optimizer.step()\n",
    "        optimizer.zero_grad()\n",
    "\n",
    "def test(loader):\n",
    "    model.eval()\n",
    "    correct = 0\n",
    "    for data in loader:  # Iterate in batches over the training/test dataset.\n",
    "        out = model(data.x, data.edge_index, data.batch)\n",
    "        pred = torch.argmax(out, dim=-1)\n",
    "        correct += int((pred == data.y.long()).sum())\n",
    "    return correct / len(loader.dataset)"
   ]
  },
  {
   "cell_type": "code",
   "execution_count": 8,
   "metadata": {},
   "outputs": [
    {
     "name": "stdout",
     "output_type": "stream",
     "text": [
      "Epoch: 001, Train Acc: 0.7913, Val Acc: 0.8652\n",
      "Checkpoint saved!\n",
      "Epoch: 002, Train Acc: 0.7913, Val Acc: 0.8652\n",
      "Checkpoint saved!\n",
      "Epoch: 003, Train Acc: 0.8400, Val Acc: 0.9078\n",
      "Checkpoint saved!\n",
      "Epoch: 004, Train Acc: 0.8565, Val Acc: 0.8936\n",
      "Epoch: 005, Train Acc: 0.9087, Val Acc: 0.9255\n",
      "Checkpoint saved!\n",
      "Epoch: 006, Train Acc: 0.9226, Val Acc: 0.9326\n",
      "Checkpoint saved!\n",
      "Epoch: 007, Train Acc: 0.8948, Val Acc: 0.8830\n",
      "Epoch: 008, Train Acc: 0.9426, Val Acc: 0.9326\n",
      "Checkpoint saved!\n",
      "Epoch: 009, Train Acc: 0.9530, Val Acc: 0.9433\n",
      "Checkpoint saved!\n",
      "Epoch: 010, Train Acc: 0.8748, Val Acc: 0.9220\n",
      "Epoch: 011, Train Acc: 0.9609, Val Acc: 0.9433\n",
      "Checkpoint saved!\n",
      "Epoch: 012, Train Acc: 0.9713, Val Acc: 0.9574\n",
      "Checkpoint saved!\n",
      "Epoch: 013, Train Acc: 0.9452, Val Acc: 0.9220\n",
      "Epoch: 014, Train Acc: 0.9600, Val Acc: 0.9539\n",
      "Epoch: 015, Train Acc: 0.9557, Val Acc: 0.9645\n",
      "Checkpoint saved!\n",
      "Epoch: 016, Train Acc: 0.9826, Val Acc: 0.9752\n",
      "Checkpoint saved!\n",
      "Epoch: 017, Train Acc: 0.9609, Val Acc: 0.9468\n",
      "Epoch: 018, Train Acc: 0.9939, Val Acc: 0.9681\n",
      "Epoch: 019, Train Acc: 0.9948, Val Acc: 0.9858\n",
      "Checkpoint saved!\n",
      "Epoch: 020, Train Acc: 0.9939, Val Acc: 0.9787\n",
      "Epoch: 021, Train Acc: 0.9974, Val Acc: 0.9787\n",
      "Epoch: 022, Train Acc: 0.9913, Val Acc: 0.9752\n",
      "Epoch: 023, Train Acc: 0.8557, Val Acc: 0.9043\n",
      "Epoch: 024, Train Acc: 0.9557, Val Acc: 0.9504\n",
      "Epoch: 025, Train Acc: 0.9652, Val Acc: 0.9574\n",
      "Epoch: 026, Train Acc: 0.9922, Val Acc: 0.9929\n",
      "Checkpoint saved!\n",
      "Epoch: 027, Train Acc: 0.9791, Val Acc: 0.9823\n",
      "Epoch: 028, Train Acc: 0.9817, Val Acc: 0.9539\n",
      "Epoch: 029, Train Acc: 0.9965, Val Acc: 0.9894\n",
      "Epoch: 030, Train Acc: 0.9965, Val Acc: 0.9894\n",
      "Epoch: 031, Train Acc: 0.9974, Val Acc: 0.9929\n",
      "Checkpoint saved!\n",
      "Epoch: 032, Train Acc: 0.9974, Val Acc: 0.9894\n",
      "Epoch: 033, Train Acc: 0.9974, Val Acc: 0.9894\n",
      "Epoch: 034, Train Acc: 0.9974, Val Acc: 0.9894\n",
      "Epoch: 035, Train Acc: 0.9991, Val Acc: 0.9894\n",
      "Epoch: 036, Train Acc: 0.9974, Val Acc: 0.9894\n",
      "Epoch: 037, Train Acc: 0.9991, Val Acc: 0.9929\n",
      "Checkpoint saved!\n",
      "Epoch: 038, Train Acc: 0.9974, Val Acc: 0.9894\n",
      "Epoch: 039, Train Acc: 0.9887, Val Acc: 0.9645\n",
      "Epoch: 040, Train Acc: 0.9991, Val Acc: 0.9894\n",
      "Epoch: 041, Train Acc: 0.9991, Val Acc: 0.9894\n",
      "Epoch: 042, Train Acc: 0.9991, Val Acc: 0.9894\n",
      "Epoch: 043, Train Acc: 0.9991, Val Acc: 0.9894\n",
      "Epoch: 044, Train Acc: 0.9991, Val Acc: 0.9894\n",
      "Epoch: 045, Train Acc: 0.9991, Val Acc: 0.9894\n",
      "Epoch: 046, Train Acc: 0.9991, Val Acc: 0.9894\n",
      "Epoch: 047, Train Acc: 0.9991, Val Acc: 0.9894\n",
      "Epoch: 048, Train Acc: 0.9991, Val Acc: 0.9894\n",
      "Epoch: 049, Train Acc: 0.9991, Val Acc: 0.9894\n",
      "Epoch: 050, Train Acc: 0.9991, Val Acc: 0.9894\n",
      "Epoch: 051, Train Acc: 0.9991, Val Acc: 0.9894\n",
      "Epoch: 052, Train Acc: 0.9991, Val Acc: 0.9894\n",
      "Epoch: 053, Train Acc: 0.9991, Val Acc: 0.9894\n",
      "Epoch: 054, Train Acc: 0.9991, Val Acc: 0.9894\n",
      "Epoch: 055, Train Acc: 0.9991, Val Acc: 0.9894\n",
      "Epoch: 056, Train Acc: 0.9991, Val Acc: 0.9894\n",
      "Epoch: 057, Train Acc: 0.9991, Val Acc: 0.9894\n",
      "Epoch: 058, Train Acc: 0.9991, Val Acc: 0.9894\n",
      "Epoch: 059, Train Acc: 0.9991, Val Acc: 0.9894\n",
      "Epoch: 060, Train Acc: 0.9991, Val Acc: 0.9894\n",
      "Epoch: 061, Train Acc: 0.9991, Val Acc: 0.9894\n",
      "Epoch: 062, Train Acc: 0.9991, Val Acc: 0.9894\n",
      "Epoch: 063, Train Acc: 0.9991, Val Acc: 0.9894\n",
      "Epoch: 064, Train Acc: 0.9991, Val Acc: 0.9894\n",
      "Epoch: 065, Train Acc: 0.9991, Val Acc: 0.9894\n",
      "Epoch: 066, Train Acc: 0.9974, Val Acc: 0.9894\n",
      "Epoch: 067, Train Acc: 0.7913, Val Acc: 0.8652\n",
      "Epoch: 068, Train Acc: 0.7913, Val Acc: 0.8652\n",
      "Epoch: 069, Train Acc: 0.8461, Val Acc: 0.8723\n",
      "Epoch: 070, Train Acc: 0.8574, Val Acc: 0.8617\n",
      "Epoch: 071, Train Acc: 0.8609, Val Acc: 0.8617\n",
      "Epoch: 072, Train Acc: 0.8678, Val Acc: 0.8652\n",
      "Epoch: 073, Train Acc: 0.8739, Val Acc: 0.8546\n",
      "Epoch: 074, Train Acc: 0.8713, Val Acc: 0.8369\n",
      "Epoch: 075, Train Acc: 0.8774, Val Acc: 0.9043\n",
      "Epoch: 076, Train Acc: 0.8800, Val Acc: 0.8262\n",
      "Epoch: 077, Train Acc: 0.9209, Val Acc: 0.9043\n",
      "Epoch: 078, Train Acc: 0.9374, Val Acc: 0.9078\n",
      "Epoch: 079, Train Acc: 0.9122, Val Acc: 0.9397\n",
      "Epoch: 080, Train Acc: 0.9574, Val Acc: 0.9362\n",
      "Epoch: 081, Train Acc: 0.9609, Val Acc: 0.9645\n",
      "Epoch: 082, Train Acc: 0.9800, Val Acc: 0.9574\n",
      "Epoch: 083, Train Acc: 0.9930, Val Acc: 0.9610\n",
      "Epoch: 084, Train Acc: 0.9739, Val Acc: 0.9610\n",
      "Epoch: 085, Train Acc: 0.9965, Val Acc: 0.9894\n",
      "Epoch: 086, Train Acc: 0.9957, Val Acc: 0.9858\n",
      "Epoch: 087, Train Acc: 0.9974, Val Acc: 0.9858\n",
      "Epoch: 088, Train Acc: 0.9939, Val Acc: 0.9894\n",
      "Epoch: 089, Train Acc: 0.9974, Val Acc: 0.9929\n",
      "Checkpoint saved!\n",
      "Epoch: 090, Train Acc: 0.9965, Val Acc: 0.9858\n",
      "Epoch: 091, Train Acc: 0.9957, Val Acc: 0.9823\n",
      "Epoch: 092, Train Acc: 0.9991, Val Acc: 0.9929\n",
      "Checkpoint saved!\n",
      "Epoch: 093, Train Acc: 0.9991, Val Acc: 0.9929\n",
      "Checkpoint saved!\n",
      "Epoch: 094, Train Acc: 0.9991, Val Acc: 0.9929\n",
      "Checkpoint saved!\n",
      "Epoch: 095, Train Acc: 0.9991, Val Acc: 0.9929\n",
      "Checkpoint saved!\n",
      "Epoch: 096, Train Acc: 0.9991, Val Acc: 0.9929\n",
      "Checkpoint saved!\n",
      "Epoch: 097, Train Acc: 0.9991, Val Acc: 0.9929\n",
      "Checkpoint saved!\n",
      "Epoch: 098, Train Acc: 0.9991, Val Acc: 0.9929\n",
      "Checkpoint saved!\n",
      "Epoch: 099, Train Acc: 0.9991, Val Acc: 0.9894\n",
      "Epoch: 100, Train Acc: 0.9991, Val Acc: 0.9894\n",
      "Epoch: 101, Train Acc: 0.9991, Val Acc: 0.9929\n",
      "Checkpoint saved!\n",
      "Epoch: 102, Train Acc: 0.9991, Val Acc: 0.9929\n",
      "Checkpoint saved!\n",
      "Epoch: 103, Train Acc: 0.9991, Val Acc: 0.9929\n",
      "Checkpoint saved!\n",
      "Epoch: 104, Train Acc: 0.9991, Val Acc: 0.9929\n",
      "Checkpoint saved!\n",
      "Epoch: 105, Train Acc: 0.9991, Val Acc: 0.9929\n",
      "Checkpoint saved!\n",
      "Epoch: 106, Train Acc: 0.9991, Val Acc: 0.9929\n",
      "Checkpoint saved!\n",
      "Epoch: 107, Train Acc: 0.9991, Val Acc: 0.9929\n",
      "Checkpoint saved!\n",
      "Epoch: 108, Train Acc: 0.9991, Val Acc: 0.9929\n",
      "Checkpoint saved!\n",
      "Epoch: 109, Train Acc: 0.9991, Val Acc: 0.9929\n",
      "Checkpoint saved!\n",
      "Epoch: 110, Train Acc: 0.9991, Val Acc: 0.9929\n",
      "Checkpoint saved!\n",
      "Epoch: 111, Train Acc: 0.9991, Val Acc: 0.9894\n",
      "Epoch: 112, Train Acc: 0.9991, Val Acc: 0.9894\n",
      "Epoch: 113, Train Acc: 0.9991, Val Acc: 0.9929\n",
      "Checkpoint saved!\n",
      "Epoch: 114, Train Acc: 0.9983, Val Acc: 0.9929\n",
      "Checkpoint saved!\n",
      "Epoch: 115, Train Acc: 0.9991, Val Acc: 0.9929\n",
      "Checkpoint saved!\n",
      "Epoch: 116, Train Acc: 0.9991, Val Acc: 0.9929\n",
      "Checkpoint saved!\n",
      "Epoch: 117, Train Acc: 0.9991, Val Acc: 0.9929\n",
      "Checkpoint saved!\n",
      "Epoch: 118, Train Acc: 0.9991, Val Acc: 0.9929\n",
      "Checkpoint saved!\n",
      "Epoch: 119, Train Acc: 0.9983, Val Acc: 0.9894\n",
      "Epoch: 120, Train Acc: 0.9904, Val Acc: 0.9823\n",
      "Epoch: 121, Train Acc: 0.9983, Val Acc: 0.9858\n",
      "Epoch: 122, Train Acc: 0.9991, Val Acc: 0.9894\n",
      "Epoch: 123, Train Acc: 0.9991, Val Acc: 0.9894\n",
      "Epoch: 124, Train Acc: 1.0000, Val Acc: 0.9858\n",
      "Epoch: 125, Train Acc: 0.9991, Val Acc: 0.9894\n",
      "Epoch: 126, Train Acc: 0.9991, Val Acc: 0.9894\n",
      "Epoch: 127, Train Acc: 0.9974, Val Acc: 0.9894\n",
      "Epoch: 128, Train Acc: 0.9991, Val Acc: 0.9894\n",
      "Epoch: 129, Train Acc: 1.0000, Val Acc: 0.9894\n",
      "Epoch: 130, Train Acc: 1.0000, Val Acc: 0.9929\n",
      "Checkpoint saved!\n",
      "Epoch: 131, Train Acc: 1.0000, Val Acc: 0.9929\n",
      "Checkpoint saved!\n",
      "Epoch: 132, Train Acc: 1.0000, Val Acc: 0.9929\n",
      "Checkpoint saved!\n",
      "Epoch: 133, Train Acc: 1.0000, Val Acc: 0.9929\n",
      "Checkpoint saved!\n",
      "Epoch: 134, Train Acc: 1.0000, Val Acc: 0.9894\n",
      "Epoch: 135, Train Acc: 1.0000, Val Acc: 0.9894\n",
      "Epoch: 136, Train Acc: 1.0000, Val Acc: 0.9894\n",
      "Epoch: 137, Train Acc: 1.0000, Val Acc: 0.9894\n",
      "Epoch: 138, Train Acc: 1.0000, Val Acc: 0.9894\n",
      "Epoch: 139, Train Acc: 1.0000, Val Acc: 0.9894\n",
      "Epoch: 140, Train Acc: 1.0000, Val Acc: 0.9894\n",
      "Epoch: 141, Train Acc: 1.0000, Val Acc: 0.9894\n",
      "Epoch: 142, Train Acc: 1.0000, Val Acc: 0.9894\n",
      "Epoch: 143, Train Acc: 1.0000, Val Acc: 0.9894\n",
      "Epoch: 144, Train Acc: 1.0000, Val Acc: 0.9894\n",
      "Epoch: 145, Train Acc: 1.0000, Val Acc: 0.9894\n",
      "Epoch: 146, Train Acc: 1.0000, Val Acc: 0.9894\n",
      "Epoch: 147, Train Acc: 1.0000, Val Acc: 0.9894\n",
      "Epoch: 148, Train Acc: 1.0000, Val Acc: 0.9894\n",
      "Epoch: 149, Train Acc: 1.0000, Val Acc: 0.9894\n",
      "Epoch: 150, Train Acc: 1.0000, Val Acc: 0.9894\n",
      "Epoch: 151, Train Acc: 1.0000, Val Acc: 0.9894\n",
      "Epoch: 152, Train Acc: 1.0000, Val Acc: 0.9894\n",
      "Epoch: 153, Train Acc: 1.0000, Val Acc: 0.9894\n",
      "Epoch: 154, Train Acc: 1.0000, Val Acc: 0.9894\n",
      "Epoch: 155, Train Acc: 1.0000, Val Acc: 0.9894\n",
      "Epoch: 156, Train Acc: 1.0000, Val Acc: 0.9894\n",
      "Epoch: 157, Train Acc: 1.0000, Val Acc: 0.9894\n",
      "Epoch: 158, Train Acc: 1.0000, Val Acc: 0.9894\n",
      "Epoch: 159, Train Acc: 1.0000, Val Acc: 0.9894\n",
      "Epoch: 160, Train Acc: 1.0000, Val Acc: 0.9894\n",
      "Epoch: 161, Train Acc: 1.0000, Val Acc: 0.9894\n",
      "Epoch: 162, Train Acc: 1.0000, Val Acc: 0.9894\n",
      "Epoch: 163, Train Acc: 1.0000, Val Acc: 0.9894\n",
      "Epoch: 164, Train Acc: 1.0000, Val Acc: 0.9894\n",
      "Epoch: 165, Train Acc: 1.0000, Val Acc: 0.9894\n",
      "Epoch: 166, Train Acc: 1.0000, Val Acc: 0.9894\n",
      "Epoch: 167, Train Acc: 1.0000, Val Acc: 0.9894\n",
      "Epoch: 168, Train Acc: 1.0000, Val Acc: 0.9894\n",
      "Epoch: 169, Train Acc: 1.0000, Val Acc: 0.9894\n",
      "Epoch: 170, Train Acc: 1.0000, Val Acc: 0.9894\n",
      "Epoch: 171, Train Acc: 1.0000, Val Acc: 0.9894\n",
      "Epoch: 172, Train Acc: 1.0000, Val Acc: 0.9894\n",
      "Epoch: 173, Train Acc: 1.0000, Val Acc: 0.9894\n",
      "Epoch: 174, Train Acc: 1.0000, Val Acc: 0.9894\n",
      "Epoch: 175, Train Acc: 1.0000, Val Acc: 0.9894\n",
      "Epoch: 176, Train Acc: 1.0000, Val Acc: 0.9894\n",
      "Epoch: 177, Train Acc: 1.0000, Val Acc: 0.9894\n",
      "Epoch: 178, Train Acc: 1.0000, Val Acc: 0.9894\n",
      "Epoch: 179, Train Acc: 1.0000, Val Acc: 0.9894\n",
      "Epoch: 180, Train Acc: 1.0000, Val Acc: 0.9894\n",
      "Epoch: 181, Train Acc: 1.0000, Val Acc: 0.9894\n",
      "Epoch: 182, Train Acc: 1.0000, Val Acc: 0.9894\n",
      "Epoch: 183, Train Acc: 1.0000, Val Acc: 0.9894\n",
      "Epoch: 184, Train Acc: 1.0000, Val Acc: 0.9894\n",
      "Epoch: 185, Train Acc: 1.0000, Val Acc: 0.9894\n",
      "Epoch: 186, Train Acc: 1.0000, Val Acc: 0.9894\n",
      "Epoch: 187, Train Acc: 1.0000, Val Acc: 0.9894\n",
      "Epoch: 188, Train Acc: 1.0000, Val Acc: 0.9894\n",
      "Epoch: 189, Train Acc: 1.0000, Val Acc: 0.9894\n",
      "Epoch: 190, Train Acc: 1.0000, Val Acc: 0.9894\n",
      "Epoch: 191, Train Acc: 1.0000, Val Acc: 0.9894\n",
      "Epoch: 192, Train Acc: 1.0000, Val Acc: 0.9894\n",
      "Epoch: 193, Train Acc: 1.0000, Val Acc: 0.9894\n",
      "Epoch: 194, Train Acc: 1.0000, Val Acc: 0.9894\n",
      "Epoch: 195, Train Acc: 1.0000, Val Acc: 0.9894\n",
      "Epoch: 196, Train Acc: 1.0000, Val Acc: 0.9894\n",
      "Epoch: 197, Train Acc: 1.0000, Val Acc: 0.9894\n",
      "Epoch: 198, Train Acc: 1.0000, Val Acc: 0.9894\n",
      "Epoch: 199, Train Acc: 1.0000, Val Acc: 0.9894\n",
      "Epoch: 200, Train Acc: 1.0000, Val Acc: 0.9894\n"
     ]
    }
   ],
   "source": [
    "best_test_acc = 0.0\n",
    "for epoch in range(1, 201):\n",
    "    train()\n",
    "    train_acc = test(train_loader)\n",
    "    val_acc = test(val_loader)\n",
    "    print(f'Epoch: {epoch:03d}, Train Acc: {train_acc:.4f}, Val Acc: {val_acc:.4f}')\n",
    "    if val_acc >= best_test_acc:\n",
    "        best_test_acc = val_acc\n",
    "        best_model_params = model.state_dict()\n",
    "        print(\"Checkpoint saved!\")"
   ]
  },
  {
   "cell_type": "markdown",
   "metadata": {},
   "source": [
    "## Eval"
   ]
  },
  {
   "cell_type": "code",
   "execution_count": 12,
   "metadata": {},
   "outputs": [
    {
     "data": {
      "text/plain": [
       "GCN_Mutag(\n",
       "  (conv1): GraphConvolution (10 -> 64)\n",
       "  (conv2): GraphConvolution (64 -> 64)\n",
       "  (conv3): GraphConvolution (64 -> 64)\n",
       "  (conv4): GraphConvolution (64 -> 64)\n",
       "  (conv5): GraphConvolution (64 -> 64)\n",
       "  (dense1): Linear(in_features=64, out_features=16, bias=True)\n",
       "  (dense2): Linear(in_features=16, out_features=8, bias=True)\n",
       "  (dense3): Linear(in_features=8, out_features=2, bias=True)\n",
       ")"
      ]
     },
     "execution_count": 12,
     "metadata": {},
     "output_type": "execute_result"
    }
   ],
   "source": [
    "best_model_params = torch.load(\"mutag_weights.pt\")\n",
    "model.load_state_dict(best_model_params)\n",
    "model.eval()"
   ]
  },
  {
   "cell_type": "code",
   "execution_count": 19,
   "metadata": {},
   "outputs": [
    {
     "data": {
      "text/plain": [
       "1150"
      ]
     },
     "execution_count": 19,
     "metadata": {},
     "output_type": "execute_result"
    }
   ],
   "source": [
    "len(train_loader.dataset)"
   ]
  },
  {
   "cell_type": "code",
   "execution_count": 21,
   "metadata": {},
   "outputs": [
    {
     "name": "stdout",
     "output_type": "stream",
     "text": [
      "1150\n",
      "train accuracy: 100.00 %\n",
      "282\n",
      "val accuracy: 98.94 %\n",
      "1132\n",
      "test accuracy: 98.94 %\n"
     ]
    }
   ],
   "source": [
    "for dataset in ['train', 'val', 'test']:\n",
    "    print(eval(f\"len({dataset}_loader.dataset)\"))\n",
    "    acc = test(eval(f\"{dataset}_loader\"))\n",
    "    print(f\"{dataset} accuracy: {100 * acc:.2f} %\")"
   ]
  },
  {
   "cell_type": "markdown",
   "metadata": {},
   "source": [
    "## Save Weights"
   ]
  },
  {
   "cell_type": "code",
   "execution_count": 14,
   "metadata": {},
   "outputs": [],
   "source": [
    "torch.save(best_model_params, \"mutag_weights.pt\")"
   ]
  },
  {
   "cell_type": "markdown",
   "metadata": {},
   "source": [
    "## Rough"
   ]
  },
  {
   "cell_type": "code",
   "execution_count": 16,
   "metadata": {},
   "outputs": [
    {
     "data": {
      "text/plain": [
       "(tensor([0., 1.]), tensor([ 448, 1853]))"
      ]
     },
     "execution_count": 16,
     "metadata": {},
     "output_type": "execute_result"
    }
   ],
   "source": [
    "torch.Tensor([int(data.y) for data in dataset]).unique(return_counts=True)"
   ]
  },
  {
   "cell_type": "code",
   "execution_count": 12,
   "metadata": {},
   "outputs": [
    {
     "data": {
      "text/plain": [
       "'test'"
      ]
     },
     "execution_count": 12,
     "metadata": {},
     "output_type": "execute_result"
    }
   ],
   "source": [
    "dataset"
   ]
  },
  {
   "cell_type": "code",
   "execution_count": null,
   "metadata": {},
   "outputs": [],
   "source": []
  }
 ],
 "metadata": {
  "kernelspec": {
   "display_name": "Python 3.9.12 ('gnn')",
   "language": "python",
   "name": "python3"
  },
  "language_info": {
   "codemirror_mode": {
    "name": "ipython",
    "version": 3
   },
   "file_extension": ".py",
   "mimetype": "text/x-python",
   "name": "python",
   "nbconvert_exporter": "python",
   "pygments_lexer": "ipython3",
   "version": "3.9.12"
  },
  "orig_nbformat": 4,
  "vscode": {
   "interpreter": {
    "hash": "68c408a09fc6b9af4d557fa69fd931fc5c0935ab87f3b3ea2b2f71f9a639c9ba"
   }
  }
 },
 "nbformat": 4,
 "nbformat_minor": 2
}
