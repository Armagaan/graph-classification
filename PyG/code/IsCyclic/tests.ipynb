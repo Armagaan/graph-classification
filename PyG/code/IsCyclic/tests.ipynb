{
 "cells": [
  {
   "cell_type": "markdown",
   "metadata": {},
   "source": [
    "# IsCyclic"
   ]
  },
  {
   "cell_type": "code",
   "execution_count": 1,
   "metadata": {},
   "outputs": [
    {
     "data": {
      "text/plain": [
       "<torch._C.Generator at 0x7f78840e1530>"
      ]
     },
     "execution_count": 1,
     "metadata": {},
     "output_type": "execute_result"
    }
   ],
   "source": [
    "import pickle\n",
    "\n",
    "import torch\n",
    "from torch_geometric.loader import DataLoader\n",
    "\n",
    "from GNN import GCN_IsCyclic\n",
    "from preprocessing import create_isCyclic_dataset\n",
    "\n",
    "torch.manual_seed(12345)"
   ]
  },
  {
   "cell_type": "markdown",
   "metadata": {},
   "source": [
    "## Data"
   ]
  },
  {
   "cell_type": "code",
   "execution_count": 2,
   "metadata": {},
   "outputs": [
    {
     "name": "stdout",
     "output_type": "stream",
     "text": [
      "Dataset size:  951\n",
      "['../../../data/IsCyclic/raw/dataset.pkl', '../../../data/IsCyclic/raw/labels.pkl']\n"
     ]
    },
    {
     "name": "stderr",
     "output_type": "stream",
     "text": [
      "Processing...\n",
      "Done!\n"
     ]
    },
    {
     "name": "stdout",
     "output_type": "stream",
     "text": [
      "tensor([[1.],\n",
      "        [1.],\n",
      "        [1.]])\n",
      "tensor([[0, 0, 1, 1, 2, 2],\n",
      "        [1, 2, 0, 2, 0, 1]])\n",
      "tensor(1., dtype=torch.float64)\n"
     ]
    }
   ],
   "source": [
    "dataset, data_objs = create_isCyclic_dataset(saved=True)\n",
    "print(dataset[0].x)\n",
    "print(dataset[0].edge_index)\n",
    "print(dataset[0].y)"
   ]
  },
  {
   "cell_type": "code",
   "execution_count": 3,
   "metadata": {},
   "outputs": [],
   "source": [
    "with open(\"../../../data/IsCyclic/index.pkl\", \"rb\") as file:\n",
    "    index = pickle.load(file)"
   ]
  },
  {
   "cell_type": "code",
   "execution_count": 4,
   "metadata": {},
   "outputs": [],
   "source": [
    "train_dataset = dataset[index['idx_train']]\n",
    "val_dataset = dataset[index['idx_val']]\n",
    "test_dataset = dataset[index['idx_test']]\n",
    "\n",
    "train_loader = DataLoader(train_dataset, batch_size=64, shuffle=True)\n",
    "val_loader = DataLoader(val_dataset, batch_size=64, shuffle=False)\n",
    "test_loader = DataLoader(test_dataset, batch_size=64, shuffle=False)"
   ]
  },
  {
   "cell_type": "code",
   "execution_count": 5,
   "metadata": {},
   "outputs": [
    {
     "name": "stdout",
     "output_type": "stream",
     "text": [
      "DataBatch(x=[1910, 1], edge_index=[2, 4970], y=[64], batch=[1910], ptr=[65])\n"
     ]
    }
   ],
   "source": [
    "for data in train_loader:\n",
    "    print(data)\n",
    "    break"
   ]
  },
  {
   "cell_type": "markdown",
   "metadata": {},
   "source": [
    "## Model"
   ]
  },
  {
   "cell_type": "code",
   "execution_count": 6,
   "metadata": {},
   "outputs": [],
   "source": [
    "model = GCN_IsCyclic(\n",
    "    in_features=dataset.num_node_features,\n",
    "    h_features=64,\n",
    ")"
   ]
  },
  {
   "cell_type": "code",
   "execution_count": 7,
   "metadata": {},
   "outputs": [
    {
     "name": "stdout",
     "output_type": "stream",
     "text": [
      "GCN_IsCyclic(\n",
      "  (conv1): GraphConvolution (1 -> 64)\n",
      "  (conv2): GraphConvolution (64 -> 64)\n",
      "  (conv3): GraphConvolution (64 -> 64)\n",
      "  (dense1): Linear(in_features=64, out_features=16, bias=True)\n",
      "  (dense2): Linear(in_features=16, out_features=8, bias=True)\n",
      "  (dense3): Linear(in_features=8, out_features=2, bias=True)\n",
      ")\n"
     ]
    }
   ],
   "source": [
    "print(model)"
   ]
  },
  {
   "cell_type": "markdown",
   "metadata": {},
   "source": [
    "## Train"
   ]
  },
  {
   "cell_type": "code",
   "execution_count": 8,
   "metadata": {},
   "outputs": [],
   "source": [
    "optimizer = torch.optim.Adam(model.parameters(), lr=0.01)\n",
    "criterion = torch.nn.NLLLoss()\n",
    "\n",
    "def train():\n",
    "    model.train()\n",
    "    for data in train_loader: # Iterate in batches over the training dataset.\n",
    "        out = model(data.x, data.edge_index, data.batch)\n",
    "        loss = criterion(out, data.y.long())\n",
    "        loss.backward()\n",
    "        optimizer.step()\n",
    "        optimizer.zero_grad()\n",
    "\n",
    "def test(loader):\n",
    "    model.eval()\n",
    "    correct = 0\n",
    "    for data in loader: # Iterate in batches over the training/test dataset.\n",
    "        out = model(data.x, data.edge_index, data.batch).squeeze()\n",
    "        pred = out.argmax(dim=-1)\n",
    "        correct += int((pred == data.y.long()).sum())\n",
    "    return correct / len(loader.dataset)"
   ]
  },
  {
   "cell_type": "code",
   "execution_count": 9,
   "metadata": {},
   "outputs": [
    {
     "name": "stdout",
     "output_type": "stream",
     "text": [
      "Epoch: 001, Train Acc: 0.5516, Val Acc: 0.5739\n",
      "Checkpoint saved!\n",
      "Epoch: 002, Train Acc: 0.7747, Val Acc: 0.7217\n",
      "Checkpoint saved!\n",
      "Epoch: 003, Train Acc: 0.7832, Val Acc: 0.7826\n",
      "Checkpoint saved!\n",
      "Epoch: 004, Train Acc: 0.9158, Val Acc: 0.8957\n",
      "Checkpoint saved!\n",
      "Epoch: 005, Train Acc: 0.9579, Val Acc: 0.9565\n",
      "Checkpoint saved!\n",
      "Epoch: 006, Train Acc: 0.6000, Val Acc: 0.6348\n",
      "Epoch: 007, Train Acc: 0.9284, Val Acc: 0.9304\n",
      "Epoch: 008, Train Acc: 0.9432, Val Acc: 0.9304\n",
      "Epoch: 009, Train Acc: 0.9516, Val Acc: 0.9652\n",
      "Checkpoint saved!\n",
      "Epoch: 010, Train Acc: 0.9347, Val Acc: 0.9304\n",
      "Epoch: 011, Train Acc: 0.9516, Val Acc: 0.9478\n",
      "Epoch: 012, Train Acc: 0.9937, Val Acc: 0.9913\n",
      "Checkpoint saved!\n",
      "Epoch: 013, Train Acc: 0.9832, Val Acc: 0.9826\n",
      "Epoch: 014, Train Acc: 1.0000, Val Acc: 0.9913\n",
      "Checkpoint saved!\n",
      "Epoch: 015, Train Acc: 0.9979, Val Acc: 0.9913\n",
      "Checkpoint saved!\n",
      "Epoch: 016, Train Acc: 0.9979, Val Acc: 0.9913\n",
      "Checkpoint saved!\n",
      "Epoch: 017, Train Acc: 0.9937, Val Acc: 0.9913\n",
      "Checkpoint saved!\n",
      "Epoch: 018, Train Acc: 0.9937, Val Acc: 0.9913\n",
      "Checkpoint saved!\n",
      "Epoch: 019, Train Acc: 0.9979, Val Acc: 0.9913\n",
      "Checkpoint saved!\n",
      "Epoch: 020, Train Acc: 0.9937, Val Acc: 0.9913\n",
      "Checkpoint saved!\n",
      "Epoch: 021, Train Acc: 0.9789, Val Acc: 0.9739\n",
      "Epoch: 022, Train Acc: 0.9937, Val Acc: 0.9739\n",
      "Epoch: 023, Train Acc: 0.9705, Val Acc: 0.9739\n",
      "Epoch: 024, Train Acc: 0.9558, Val Acc: 0.9652\n",
      "Epoch: 025, Train Acc: 0.9705, Val Acc: 0.9652\n",
      "Epoch: 026, Train Acc: 0.9832, Val Acc: 0.9739\n",
      "Epoch: 027, Train Acc: 0.9937, Val Acc: 0.9913\n",
      "Checkpoint saved!\n",
      "Epoch: 028, Train Acc: 0.9937, Val Acc: 0.9913\n",
      "Checkpoint saved!\n",
      "Epoch: 029, Train Acc: 0.9789, Val Acc: 0.9739\n",
      "Epoch: 030, Train Acc: 0.9937, Val Acc: 0.9913\n",
      "Checkpoint saved!\n",
      "Epoch: 031, Train Acc: 0.9347, Val Acc: 0.9304\n",
      "Epoch: 032, Train Acc: 0.9705, Val Acc: 0.9565\n",
      "Epoch: 033, Train Acc: 0.9705, Val Acc: 0.9652\n",
      "Epoch: 034, Train Acc: 0.9516, Val Acc: 0.9478\n",
      "Epoch: 035, Train Acc: 0.9937, Val Acc: 0.9913\n",
      "Checkpoint saved!\n",
      "Epoch: 036, Train Acc: 0.9537, Val Acc: 0.9478\n",
      "Epoch: 037, Train Acc: 0.9937, Val Acc: 0.9913\n",
      "Checkpoint saved!\n",
      "Epoch: 038, Train Acc: 0.9937, Val Acc: 0.9913\n",
      "Checkpoint saved!\n",
      "Epoch: 039, Train Acc: 0.9937, Val Acc: 0.9913\n",
      "Checkpoint saved!\n",
      "Epoch: 040, Train Acc: 0.9811, Val Acc: 0.9739\n",
      "Epoch: 041, Train Acc: 0.9937, Val Acc: 0.9913\n",
      "Checkpoint saved!\n",
      "Epoch: 042, Train Acc: 0.9937, Val Acc: 0.9913\n",
      "Checkpoint saved!\n",
      "Epoch: 043, Train Acc: 0.9937, Val Acc: 0.9913\n",
      "Checkpoint saved!\n",
      "Epoch: 044, Train Acc: 0.9811, Val Acc: 0.9739\n",
      "Epoch: 045, Train Acc: 0.9789, Val Acc: 0.9739\n",
      "Epoch: 046, Train Acc: 0.9937, Val Acc: 0.9913\n",
      "Checkpoint saved!\n",
      "Epoch: 047, Train Acc: 0.9937, Val Acc: 0.9913\n",
      "Checkpoint saved!\n",
      "Epoch: 048, Train Acc: 0.9937, Val Acc: 0.9913\n",
      "Checkpoint saved!\n",
      "Epoch: 049, Train Acc: 0.9874, Val Acc: 0.9739\n",
      "Epoch: 050, Train Acc: 0.9937, Val Acc: 0.9913\n",
      "Checkpoint saved!\n",
      "Epoch: 051, Train Acc: 0.9558, Val Acc: 0.9652\n",
      "Epoch: 052, Train Acc: 0.9874, Val Acc: 0.9739\n",
      "Epoch: 053, Train Acc: 0.9937, Val Acc: 0.9913\n",
      "Checkpoint saved!\n",
      "Epoch: 054, Train Acc: 0.9347, Val Acc: 0.9304\n",
      "Epoch: 055, Train Acc: 0.9937, Val Acc: 0.9913\n",
      "Checkpoint saved!\n",
      "Epoch: 056, Train Acc: 0.9937, Val Acc: 0.9913\n",
      "Checkpoint saved!\n",
      "Epoch: 057, Train Acc: 0.9684, Val Acc: 0.9652\n",
      "Epoch: 058, Train Acc: 0.9937, Val Acc: 0.9913\n",
      "Checkpoint saved!\n",
      "Epoch: 059, Train Acc: 0.9937, Val Acc: 0.9913\n",
      "Checkpoint saved!\n",
      "Epoch: 060, Train Acc: 0.9874, Val Acc: 0.9826\n",
      "Epoch: 061, Train Acc: 0.9937, Val Acc: 0.9913\n",
      "Checkpoint saved!\n",
      "Epoch: 062, Train Acc: 0.9789, Val Acc: 0.9739\n",
      "Epoch: 063, Train Acc: 0.9937, Val Acc: 0.9913\n",
      "Checkpoint saved!\n",
      "Epoch: 064, Train Acc: 0.9916, Val Acc: 0.9913\n",
      "Checkpoint saved!\n",
      "Epoch: 065, Train Acc: 0.9937, Val Acc: 0.9913\n",
      "Checkpoint saved!\n",
      "Epoch: 066, Train Acc: 0.9937, Val Acc: 0.9913\n",
      "Checkpoint saved!\n",
      "Epoch: 067, Train Acc: 0.9937, Val Acc: 0.9913\n",
      "Checkpoint saved!\n",
      "Epoch: 068, Train Acc: 0.9937, Val Acc: 0.9913\n",
      "Checkpoint saved!\n",
      "Epoch: 069, Train Acc: 0.9937, Val Acc: 0.9913\n",
      "Checkpoint saved!\n",
      "Epoch: 070, Train Acc: 0.9937, Val Acc: 0.9913\n",
      "Checkpoint saved!\n",
      "Epoch: 071, Train Acc: 0.9937, Val Acc: 0.9913\n",
      "Checkpoint saved!\n",
      "Epoch: 072, Train Acc: 0.9937, Val Acc: 0.9913\n",
      "Checkpoint saved!\n",
      "Epoch: 073, Train Acc: 0.9937, Val Acc: 0.9913\n",
      "Checkpoint saved!\n",
      "Epoch: 074, Train Acc: 0.9874, Val Acc: 0.9739\n",
      "Epoch: 075, Train Acc: 0.9937, Val Acc: 0.9913\n",
      "Checkpoint saved!\n",
      "Epoch: 076, Train Acc: 0.9832, Val Acc: 0.9739\n",
      "Epoch: 077, Train Acc: 0.9937, Val Acc: 0.9913\n",
      "Checkpoint saved!\n",
      "Epoch: 078, Train Acc: 0.9916, Val Acc: 0.9826\n",
      "Epoch: 079, Train Acc: 0.9937, Val Acc: 0.9913\n",
      "Checkpoint saved!\n",
      "Epoch: 080, Train Acc: 0.9937, Val Acc: 0.9913\n",
      "Checkpoint saved!\n",
      "Epoch: 081, Train Acc: 0.9937, Val Acc: 0.9913\n",
      "Checkpoint saved!\n",
      "Epoch: 082, Train Acc: 0.9937, Val Acc: 0.9913\n",
      "Checkpoint saved!\n",
      "Epoch: 083, Train Acc: 0.9937, Val Acc: 0.9913\n",
      "Checkpoint saved!\n",
      "Epoch: 084, Train Acc: 0.9937, Val Acc: 0.9913\n",
      "Checkpoint saved!\n",
      "Epoch: 085, Train Acc: 0.9937, Val Acc: 0.9913\n",
      "Checkpoint saved!\n",
      "Epoch: 086, Train Acc: 0.9937, Val Acc: 0.9913\n",
      "Checkpoint saved!\n",
      "Epoch: 087, Train Acc: 0.9937, Val Acc: 0.9913\n",
      "Checkpoint saved!\n",
      "Epoch: 088, Train Acc: 0.9937, Val Acc: 0.9913\n",
      "Checkpoint saved!\n",
      "Epoch: 089, Train Acc: 0.9937, Val Acc: 0.9913\n",
      "Checkpoint saved!\n",
      "Epoch: 090, Train Acc: 0.9937, Val Acc: 0.9913\n",
      "Checkpoint saved!\n",
      "Epoch: 091, Train Acc: 0.9937, Val Acc: 0.9913\n",
      "Checkpoint saved!\n",
      "Epoch: 092, Train Acc: 0.9937, Val Acc: 0.9913\n",
      "Checkpoint saved!\n",
      "Epoch: 093, Train Acc: 0.9937, Val Acc: 0.9913\n",
      "Checkpoint saved!\n",
      "Epoch: 094, Train Acc: 0.9937, Val Acc: 0.9913\n",
      "Checkpoint saved!\n",
      "Epoch: 095, Train Acc: 0.9937, Val Acc: 0.9913\n",
      "Checkpoint saved!\n",
      "Epoch: 096, Train Acc: 0.9937, Val Acc: 0.9913\n",
      "Checkpoint saved!\n",
      "Epoch: 097, Train Acc: 0.9937, Val Acc: 0.9913\n",
      "Checkpoint saved!\n",
      "Epoch: 098, Train Acc: 0.9937, Val Acc: 0.9913\n",
      "Checkpoint saved!\n",
      "Epoch: 099, Train Acc: 0.9937, Val Acc: 0.9913\n",
      "Checkpoint saved!\n",
      "Epoch: 100, Train Acc: 0.9937, Val Acc: 0.9913\n",
      "Checkpoint saved!\n"
     ]
    }
   ],
   "source": [
    "best_test_acc = 0.0\n",
    "for epoch in range(1, 101):\n",
    "    train()\n",
    "    train_acc = test(train_loader)\n",
    "    val_acc = test(val_loader)\n",
    "    print(f'Epoch: {epoch:03d}, Train Acc: {train_acc:.4f}, Val Acc: {val_acc:.4f}')\n",
    "    if val_acc >= best_test_acc:\n",
    "        best_test_acc = val_acc\n",
    "        best_model_params = model.state_dict()\n",
    "        print(\"Checkpoint saved!\")"
   ]
  },
  {
   "cell_type": "markdown",
   "metadata": {},
   "source": [
    "## Eval"
   ]
  },
  {
   "cell_type": "code",
   "execution_count": 10,
   "metadata": {},
   "outputs": [
    {
     "data": {
      "text/plain": [
       "GCN_IsCyclic(\n",
       "  (conv1): GraphConvolution (1 -> 64)\n",
       "  (conv2): GraphConvolution (64 -> 64)\n",
       "  (conv3): GraphConvolution (64 -> 64)\n",
       "  (dense1): Linear(in_features=64, out_features=16, bias=True)\n",
       "  (dense2): Linear(in_features=16, out_features=8, bias=True)\n",
       "  (dense3): Linear(in_features=8, out_features=2, bias=True)\n",
       ")"
      ]
     },
     "execution_count": 10,
     "metadata": {},
     "output_type": "execute_result"
    }
   ],
   "source": [
    "best_model_params = torch.load(\"iscyclic_weights.pt\")\n",
    "model.load_state_dict(best_model_params)\n",
    "model.eval()"
   ]
  },
  {
   "cell_type": "code",
   "execution_count": 11,
   "metadata": {},
   "outputs": [
    {
     "name": "stdout",
     "output_type": "stream",
     "text": [
      "train accuracy: 99.37 %\n",
      "val accuracy: 99.13 %\n",
      "test accuracy: 99.35 %\n"
     ]
    }
   ],
   "source": [
    "for dataset in ['train', 'val', 'test']:\n",
    "    acc = test(eval(f\"{dataset}_loader\"))\n",
    "    print(f\"{dataset} accuracy: {100 * acc:.2f} %\")"
   ]
  },
  {
   "cell_type": "markdown",
   "metadata": {},
   "source": [
    "## Save weight"
   ]
  },
  {
   "cell_type": "code",
   "execution_count": 12,
   "metadata": {},
   "outputs": [],
   "source": [
    "torch.save(best_model_params, \"iscyclic_weights.pt\")"
   ]
  },
  {
   "cell_type": "markdown",
   "metadata": {},
   "source": [
    "## Rough"
   ]
  },
  {
   "cell_type": "code",
   "execution_count": null,
   "metadata": {},
   "outputs": [],
   "source": []
  }
 ],
 "metadata": {
  "kernelspec": {
   "display_name": "Python 3.9.12 ('gnn')",
   "language": "python",
   "name": "python3"
  },
  "language_info": {
   "codemirror_mode": {
    "name": "ipython",
    "version": 3
   },
   "file_extension": ".py",
   "mimetype": "text/x-python",
   "name": "python",
   "nbconvert_exporter": "python",
   "pygments_lexer": "ipython3",
   "version": "3.9.12"
  },
  "orig_nbformat": 4,
  "vscode": {
   "interpreter": {
    "hash": "68c408a09fc6b9af4d557fa69fd931fc5c0935ab87f3b3ea2b2f71f9a639c9ba"
   }
  }
 },
 "nbformat": 4,
 "nbformat_minor": 2
}
